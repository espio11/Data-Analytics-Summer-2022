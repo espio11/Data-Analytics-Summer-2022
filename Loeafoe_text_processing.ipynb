{
  "nbformat": 4,
  "nbformat_minor": 0,
  "metadata": {
    "colab": {
      "name": "Loeafoe_text_processing.ipynb",
      "provenance": []
    },
    "kernelspec": {
      "name": "python3",
      "display_name": "Python 3"
    },
    "language_info": {
      "name": "python"
    }
  },
  "cells": [
    {
      "cell_type": "code",
      "source": [
        "#Import necessary libraries for future use\n",
        "import numpy as np\n",
        "import pandas as pd\n",
        "import re"
      ],
      "metadata": {
        "id": "qNui2L_KYShQ"
      },
      "execution_count": 5,
      "outputs": []
    },
    {
      "cell_type": "code",
      "execution_count": 6,
      "metadata": {
        "id": "j9nRcyDlXYmZ"
      },
      "outputs": [],
      "source": [
        "#Create string\n",
        "\n",
        "info = \"555-1239Dr. Bernard Lander(636) 555-0113Hollingdorp, Donnatella555-6542Fitzgerald, F. Scott555 8904Rev. Martin Luther King636-555-3226Snodgrass, Theodore5553642Carlamina Scarfoni\""
      ]
    },
    {
      "cell_type": "code",
      "source": [
        "# q1) Extract the numbers\n",
        "\n",
        "phone_numbers = re.findall('(?:[(])?(?:\\d{3})?(?:[)])?(?:[-\\s])?\\d{3}(?:[-\\s])?\\d{4}', info) #Used this to help me find the proper regex: https://www.regextester.com/99013\n",
        "print(\"Phone Numbers:\", phone_numbers)"
      ],
      "metadata": {
        "colab": {
          "base_uri": "https://localhost:8080/"
        },
        "id": "cp1z02hwYUIl",
        "outputId": "9ba2c43b-c2f0-42d0-d476-b51c700323cc"
      },
      "execution_count": 7,
      "outputs": [
        {
          "output_type": "stream",
          "name": "stdout",
          "text": [
            "Phone Numbers: ['555-1239', '(636) 555-0113', '555-6542', '555 8904', '636-555-3226', '5553642']\n"
          ]
        }
      ]
    },
    {
      "cell_type": "code",
      "source": [
        "# q2) Extract the names\n",
        "\n",
        "names = re.findall(r\"(?:[A-Z][a-z]*\\.\\s*)?[A-Z][a-z]+,?\\s+(?:[A-Z][a-z]*\\.?\\s*)?[A-Z][a-z]+\", info) #Code from: https://stackoverflow.com/questions/55194224/extract-names-from-string-with-python-regex\n",
        "print(names)"
      ],
      "metadata": {
        "colab": {
          "base_uri": "https://localhost:8080/"
        },
        "id": "ZLaQCQaBewvV",
        "outputId": "9e9de82d-f1f6-4301-8c8c-428879008e1c"
      },
      "execution_count": 8,
      "outputs": [
        {
          "output_type": "stream",
          "name": "stdout",
          "text": [
            "['Dr. Bernard Lander', 'Hollingdorp, Donnatella', 'Fitzgerald, F. Scott', 'Rev. Martin Luther King', 'Snodgrass, Theodore', 'Carlamina Scarfoni']\n"
          ]
        }
      ]
    },
    {
      "cell_type": "code",
      "source": [
        "# q3) Rearrange the vector so that all elements conform to the standard “firstname lastname”, preserving any titles (e.g., “Rev.”, “Dr.”, etc) or middle/second names.\n",
        "\n",
        "#q3_list = [\" \".join(n.split(\", \")[::-1]) for n in names] # Code from: https://stackoverflow.com/questions/15704943/switch-lastname-firstname-to-firstname-lastname-inside-list\n",
        "#print(q3_list)\n",
        "\n",
        "# Code partially taken from: https://stackoverflow.com/questions/34128842/how-to-reverse-the-order-of-the-words-in-a-string\n",
        "\n",
        "q3_list = [] #List to hold the names after they are corrected\n",
        "\n",
        "for i in range(len(names)): #Iterate through the list of names\n",
        "  if ',' in names[i]: #If the name at this index includes a comma which indicates names out of order\n",
        "    a = names[i].split() #Split the string into seperate words and svae in list\n",
        "    a.reverse() #Reverse the order of words in list\n",
        "    a = \" \".join(a) #Join the words in the list to form a single string\n",
        "    a = a.replace(\",\",\" \") #Replace the comma with a space\n",
        "    q3_list.append(a) #Append to the list which holds the newly corrected names\n",
        "  else:\n",
        "    #If the names do not contain a comma, it is assumed they are in their proper order. \n",
        "    #Simply add to the list which holds the newly corrected names\n",
        "    q3_list.append(names[i])\n",
        "\n",
        "print(q3_list)"
      ],
      "metadata": {
        "colab": {
          "base_uri": "https://localhost:8080/"
        },
        "id": "Xf0Tf_YInO9P",
        "outputId": "9cdd93a6-c0f7-48f0-8b4c-10550ee6b4fc"
      },
      "execution_count": 9,
      "outputs": [
        {
          "output_type": "stream",
          "name": "stdout",
          "text": [
            "['Dr. Bernard Lander', 'Donnatella Hollingdorp ', 'Scott F. Fitzgerald ', 'Rev. Martin Luther King', 'Theodore Snodgrass ', 'Carlamina Scarfoni']\n"
          ]
        }
      ]
    },
    {
      "cell_type": "code",
      "source": [
        "# q4) Construct a logical vector indicating whether a character has a title (i.e., Rev. and Dr.)\n",
        "\n",
        "q4_list = []\n",
        "for i in range(len(q3_list)):\n",
        "  result = (re.match(\"[A-Z][a-z]*\\.\\s*\", q3_list[i]))\n",
        "  q4_list.append(bool(result))\n",
        "\n",
        "print(q4_list)"
      ],
      "metadata": {
        "colab": {
          "base_uri": "https://localhost:8080/"
        },
        "id": "iHwGhQHboRhn",
        "outputId": "e59ae521-c0b8-4897-afb1-a387411339fc"
      },
      "execution_count": 10,
      "outputs": [
        {
          "output_type": "stream",
          "name": "stdout",
          "text": [
            "[True, False, False, True, False, False]\n"
          ]
        }
      ]
    },
    {
      "cell_type": "code",
      "source": [
        "# q5) Construct a logical vector indicating whether a character has a middle/second name.\n",
        "\n",
        "q5_list = [] #List to hold boolean values\n",
        "\n",
        "for i in range(len(q3_list)): #Iterate through list\n",
        "  dot_index = q3_list[i].find('.') #Find index of period\n",
        "  if q3_list[i][dot_index - 1].isupper() == True: #Check if the index before the period is a capital letter\n",
        "    q5_list.append(True) #If the above condition is true, append True to the list\n",
        "  else:\n",
        "    q5_list.append(False) #If the above condition is flase, append False to the list\n",
        "\n",
        "print(q5_list)"
      ],
      "metadata": {
        "colab": {
          "base_uri": "https://localhost:8080/"
        },
        "id": "kFrUlr-Kw0qj",
        "outputId": "09c43909-7cd7-4c56-a39e-9d35efea867d"
      },
      "execution_count": 11,
      "outputs": [
        {
          "output_type": "stream",
          "name": "stdout",
          "text": [
            "[False, False, True, False, False, False]\n"
          ]
        }
      ]
    },
    {
      "cell_type": "code",
      "source": [
        "# q6) Consider the HTML string <title>+++BREAKING NEWS+++<title>. We would like to extract the first HTML tag (i.e., “<title>”). \n",
        "# To do so we write the regular expression “<.+>”. Explain why this fails and correct the expression.\n",
        "\n",
        "info2 = \"<title>+++BREAKING NEWS+++<title>\"\n",
        "\n",
        "result2 = (re.findall(\"<.+>\", info2))\n",
        "print(\"Incorrect Output:\", result2)\n",
        "\n",
        "# Using \"<.+>\" to find the first tag is incorrect because .+ means to find any string with any letter with any number of repitions.\n",
        "# This will result in the entire strin being extracted. This is incorrect\n",
        "\n",
        "result3 = (re.findall(\"(\\<[a-z]+\\>)\", info2)) #Proper tag extraction\n",
        "print(\"  Correct Output:\", result3)"
      ],
      "metadata": {
        "colab": {
          "base_uri": "https://localhost:8080/"
        },
        "id": "_Nnduqz9jZzc",
        "outputId": "d4abbd31-c613-41ef-c88f-a56c3d826cfe"
      },
      "execution_count": 49,
      "outputs": [
        {
          "output_type": "stream",
          "name": "stdout",
          "text": [
            "Incorrect Output: ['<title>+++BREAKING NEWS+++<title>']\n",
            "  Correct Output: ['<title>', '<title>']\n"
          ]
        }
      ]
    }
  ]
}