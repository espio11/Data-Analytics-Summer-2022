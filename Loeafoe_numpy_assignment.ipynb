{
  "nbformat": 4,
  "nbformat_minor": 0,
  "metadata": {
    "colab": {
      "name": "Loeafoe_numpy_assignment.ipynb",
      "provenance": []
    },
    "kernelspec": {
      "name": "python3",
      "display_name": "Python 3"
    },
    "language_info": {
      "name": "python"
    }
  },
  "cells": [
    {
      "cell_type": "code",
      "execution_count": 2,
      "metadata": {
        "id": "bBBfbtbnuIX8"
      },
      "outputs": [],
      "source": [
        "#Import necessary libraries for future use\n",
        "import numpy as np\n",
        "import pandas as pd"
      ]
    },
    {
      "cell_type": "code",
      "source": [
        "\"\"\" \n",
        "q1) Write a Python/NumPy code block that finds the distinct/unique common items between these two arrays:\n",
        "        \n",
        "a = np.array([1, 2, 3, 2, 3, 4, 3, 4, 5, 6])\n",
        "b = np.array([7, 2, 10, 2, 7, 4, 9, 4, 9, 8])\n",
        "\n",
        "Your output should contain only the distinct overlapping values. For example, if a 2 is found in both array a and array b,\n",
        "your output should contain only one 2 even if array a contains more than one 2 within it.\n",
        "\"\"\"\n",
        "a = np.array([1, 2, 3, 2, 3, 4, 3, 4, 5, 6])\n",
        "b = np.array([7, 2, 10, 2, 7, 4, 9, 4, 9, 8])\n",
        "\n",
        "x = set() #Create empty set\n",
        "\n",
        "for i in range(len(a)): #Iterate through lists\n",
        "  if a[i] == b[i]: #If the elements at the same index in both lists are equivalent\n",
        "    x.add(a[i]) #Add them to the set. Only unique values will be stored.\n",
        "\n",
        "print(x)"
      ],
      "metadata": {
        "colab": {
          "base_uri": "https://localhost:8080/"
        },
        "id": "ITldPCSgubaV",
        "outputId": "48693650-2109-4493-dcb8-d9b3becc9d3d"
      },
      "execution_count": 3,
      "outputs": [
        {
          "output_type": "stream",
          "name": "stdout",
          "text": [
            "{2, 4}\n"
          ]
        }
      ]
    },
    {
      "cell_type": "code",
      "source": [
        "\"\"\"\n",
        "q2) Create the following 5x3 array using knowledge you have of Python’s / NumPy’s sequencing functionality\n",
        "so that you do not need to explicitly key in every integer value.\n",
        "\n",
        "1   6    11\n",
        "2   7    12\n",
        "3   8    13\n",
        "4   9    14\n",
        "5   10   15\n",
        "\"\"\"\n",
        "\n",
        "q2_list = [] #Create an empty list\n",
        "\n",
        "for r in range(5): #Create 5 rows\n",
        "  q2_list.append([]) #Append empty list to matrix\n",
        "  for c in range(3): #Create 3 columns\n",
        "    q2_list[r].append(((5 * c) + r) + 1) #Math to create appropriate value\n",
        "\n",
        "\n",
        "for i in range(len(q2_list)): #Print matrix\n",
        "  print(q2_list[i], \" \")"
      ],
      "metadata": {
        "colab": {
          "base_uri": "https://localhost:8080/"
        },
        "id": "V-WZwMxqwTl3",
        "outputId": "8a329d45-afe2-4315-f17d-1a0e78bccb9e"
      },
      "execution_count": 26,
      "outputs": [
        {
          "output_type": "stream",
          "name": "stdout",
          "text": [
            "[1, 6, 11]  \n",
            "[2, 7, 12]  \n",
            "[3, 8, 13]  \n",
            "[4, 9, 14]  \n",
            "[5, 10, 15]  \n"
          ]
        }
      ]
    },
    {
      "cell_type": "code",
      "source": [
        "\"\"\"\n",
        "q3) The process of transforming a multidimensional array into a unidimensional array is referred to as “flattening”. \n",
        "Transform the 5x3 array shown above in Problem 2 into a unidimensional array such that the sequence of values contained within the array is as follows: \n",
        "1, 2, 3, 4, 5, 6, 7, 8, 9, 10, 11, 12, 13, 14, 15\n",
        "\"\"\"\n",
        "\n",
        "q3_list = [] #Create empty list\n",
        "for r in range(len(q2_list[r])): #Iterate through columns\n",
        "  for c in range(len(q2_list)): #Iterate through rows\n",
        "    q3_list.append(q2_list[c][r]) #Append in row major order\n",
        "\n",
        "print(q3_list)"
      ],
      "metadata": {
        "colab": {
          "base_uri": "https://localhost:8080/"
        },
        "id": "g96FrtJm2NJW",
        "outputId": "8af9076e-f14c-4692-cd30-eec1ca8a0e8d"
      },
      "execution_count": 5,
      "outputs": [
        {
          "output_type": "stream",
          "name": "stdout",
          "text": [
            "[1, 2, 3, 4, 5, 6, 7, 8, 9, 10, 11, 12, 13, 14, 15]\n"
          ]
        }
      ]
    },
    {
      "cell_type": "code",
      "source": [
        "\"\"\"\n",
        "q4) Transform the 2-D array shown in Problem 2 into a 3 dimensional array such that the first column becomes the first dimension of the 3-D array, the second column becomes the second dimension of the 3-D array, \n",
        "and the third column becomes the third dimension of the 3-D array.\n",
        "\n",
        "Side Note: I'm not sure if I interpreted your instructions correctly here. When you say you want the first column to become the first dimension,\n",
        "I assume you want it to become the first [5][1] block of 3.\n",
        "\"\"\"\n",
        "\n",
        "temp = np.array(q2_list)\n",
        "q4_list = temp.reshape(3,5,1)\n",
        "print(q4_list)"
      ],
      "metadata": {
        "colab": {
          "base_uri": "https://localhost:8080/"
        },
        "id": "B2BZ5eOQ65yJ",
        "outputId": "42405d77-3cbe-44da-e231-f6f56f8e3dfb"
      },
      "execution_count": 23,
      "outputs": [
        {
          "output_type": "stream",
          "name": "stdout",
          "text": [
            "[[[ 1]\n",
            "  [ 6]\n",
            "  [11]\n",
            "  [ 2]\n",
            "  [ 7]]\n",
            "\n",
            " [[12]\n",
            "  [ 3]\n",
            "  [ 8]\n",
            "  [13]\n",
            "  [ 4]]\n",
            "\n",
            " [[ 9]\n",
            "  [14]\n",
            "  [ 5]\n",
            "  [10]\n",
            "  [15]]]  \n"
          ]
        }
      ]
    },
    {
      "cell_type": "code",
      "source": [
        "# q5) Transform the 3-D array you created in Problem 4 back to the 2-dimensional format shown in Problem 2.\n",
        "\n",
        "q5_list = q4_list.reshape(5,3)\n",
        "print(q5_list, \" \")"
      ],
      "metadata": {
        "colab": {
          "base_uri": "https://localhost:8080/"
        },
        "id": "40yz0PBToAQT",
        "outputId": "bc866493-02f3-4712-9720-3baa6c5d6c9d"
      },
      "execution_count": 30,
      "outputs": [
        {
          "output_type": "stream",
          "name": "stdout",
          "text": [
            "[[ 1  6 11]\n",
            " [ 2  7 12]\n",
            " [ 3  8 13]\n",
            " [ 4  9 14]\n",
            " [ 5 10 15]]  \n"
          ]
        }
      ]
    },
    {
      "cell_type": "code",
      "source": [
        "\"\"\"\n",
        "# q6) You are given the following two arrays:\n",
        "a = np.array([12, 5, 7, 15, 3, 1, 8])\n",
        "b = np.array([14, 6, 3, 11, 19, 12, 5])\n",
        "Write a Python/Numpy code block that removes from array a any items that are also present in array b.\n",
        "\"\"\"\n",
        "a = np.array([12, 5, 7, 15, 3, 1, 8]) #Given numpy arrays\n",
        "b = np.array([14, 6, 3, 11, 19, 12, 5])\n",
        "del_indices = [] #List to store the indices that will be deleted from list a\n",
        "b_set = set() #A set to store the unique values in list b\n",
        "\n",
        "for i in range(len(b)): #Iterate through list b\n",
        "  b_set.add(b[i]) #Add unique elements of list b to set b_set\n",
        "\n",
        "for i in range(len(a)): #Iterate through a\n",
        "  if a[i] in b_set: #If the value stored at a[i] is in set b_set\n",
        "    del_indices.append(i) #Add that index to del_indices. These indices will be deleted from list a.\n",
        "\n",
        "print(\"Indices to be deleted\", del_indices) #Print the indices that are to be deeted from list a\n",
        "new_a = np.delete(a, del_indices) #Delete the aformentioned indices from list a and create a new list, new_a\n",
        "print(\"a after deleting elements that appears in b:\", new_a) #Print new_a which contains the values of a after the deletions took place\n",
        "\n",
        "# Code inspired by https://stackoverflow.com/questions/10996140/how-to-remove-specific-elements-in-a-numpy-array"
      ],
      "metadata": {
        "colab": {
          "base_uri": "https://localhost:8080/"
        },
        "id": "mAckd7v8plec",
        "outputId": "598c7833-60ba-42c9-84c6-922d8f9ee38e"
      },
      "execution_count": null,
      "outputs": [
        {
          "output_type": "stream",
          "name": "stdout",
          "text": [
            "Indices to be deleted [0, 1, 4]\n",
            "a after deleting elements that appears in b: [ 7 15  1  8]\n"
          ]
        }
      ]
    },
    {
      "cell_type": "code",
      "source": [
        "#Get Module6 data from github\n",
        "\n",
        "df = pd.read_csv(\"https://raw.githubusercontent.com/espio11/Data-Analytics-Summer-2022/main/Module6_Data.txt\", sep = \"\\t\")\n",
        "df.style.set_properties(**{'text-align': 'left'})\n",
        "df.head()"
      ],
      "metadata": {
        "colab": {
          "base_uri": "https://localhost:8080/",
          "height": 206
        },
        "id": "LZXXXz2_bnp9",
        "outputId": "4af4f06f-16e7-453b-a7a1-8e1e6575ee55"
      },
      "execution_count": null,
      "outputs": [
        {
          "output_type": "execute_result",
          "data": {
            "text/plain": [
              "   Year  New York City Population  NYC Consumption(Million gallons per day)  \\\n",
              "0  1979                 7102100.0                                    1512.0   \n",
              "1  1980                 7071639.0                                    1506.0   \n",
              "2  1981                 7089241.0                                    1309.0   \n",
              "3  1982                 7109105.0                                    1382.0   \n",
              "4  1983                 7181224.0                                    1424.0   \n",
              "\n",
              "   Per Capita(Gallons per person per day)  \n",
              "0                                     213  \n",
              "1                                     213  \n",
              "2                                     185  \n",
              "3                                     194  \n",
              "4                                     198  "
            ],
            "text/html": [
              "\n",
              "  <div id=\"df-cbee19ca-c04b-43c8-81eb-f2739fe0af6b\">\n",
              "    <div class=\"colab-df-container\">\n",
              "      <div>\n",
              "<style scoped>\n",
              "    .dataframe tbody tr th:only-of-type {\n",
              "        vertical-align: middle;\n",
              "    }\n",
              "\n",
              "    .dataframe tbody tr th {\n",
              "        vertical-align: top;\n",
              "    }\n",
              "\n",
              "    .dataframe thead th {\n",
              "        text-align: right;\n",
              "    }\n",
              "</style>\n",
              "<table border=\"1\" class=\"dataframe\">\n",
              "  <thead>\n",
              "    <tr style=\"text-align: right;\">\n",
              "      <th></th>\n",
              "      <th>Year</th>\n",
              "      <th>New York City Population</th>\n",
              "      <th>NYC Consumption(Million gallons per day)</th>\n",
              "      <th>Per Capita(Gallons per person per day)</th>\n",
              "    </tr>\n",
              "  </thead>\n",
              "  <tbody>\n",
              "    <tr>\n",
              "      <th>0</th>\n",
              "      <td>1979</td>\n",
              "      <td>7102100.0</td>\n",
              "      <td>1512.0</td>\n",
              "      <td>213</td>\n",
              "    </tr>\n",
              "    <tr>\n",
              "      <th>1</th>\n",
              "      <td>1980</td>\n",
              "      <td>7071639.0</td>\n",
              "      <td>1506.0</td>\n",
              "      <td>213</td>\n",
              "    </tr>\n",
              "    <tr>\n",
              "      <th>2</th>\n",
              "      <td>1981</td>\n",
              "      <td>7089241.0</td>\n",
              "      <td>1309.0</td>\n",
              "      <td>185</td>\n",
              "    </tr>\n",
              "    <tr>\n",
              "      <th>3</th>\n",
              "      <td>1982</td>\n",
              "      <td>7109105.0</td>\n",
              "      <td>1382.0</td>\n",
              "      <td>194</td>\n",
              "    </tr>\n",
              "    <tr>\n",
              "      <th>4</th>\n",
              "      <td>1983</td>\n",
              "      <td>7181224.0</td>\n",
              "      <td>1424.0</td>\n",
              "      <td>198</td>\n",
              "    </tr>\n",
              "  </tbody>\n",
              "</table>\n",
              "</div>\n",
              "      <button class=\"colab-df-convert\" onclick=\"convertToInteractive('df-cbee19ca-c04b-43c8-81eb-f2739fe0af6b')\"\n",
              "              title=\"Convert this dataframe to an interactive table.\"\n",
              "              style=\"display:none;\">\n",
              "        \n",
              "  <svg xmlns=\"http://www.w3.org/2000/svg\" height=\"24px\"viewBox=\"0 0 24 24\"\n",
              "       width=\"24px\">\n",
              "    <path d=\"M0 0h24v24H0V0z\" fill=\"none\"/>\n",
              "    <path d=\"M18.56 5.44l.94 2.06.94-2.06 2.06-.94-2.06-.94-.94-2.06-.94 2.06-2.06.94zm-11 1L8.5 8.5l.94-2.06 2.06-.94-2.06-.94L8.5 2.5l-.94 2.06-2.06.94zm10 10l.94 2.06.94-2.06 2.06-.94-2.06-.94-.94-2.06-.94 2.06-2.06.94z\"/><path d=\"M17.41 7.96l-1.37-1.37c-.4-.4-.92-.59-1.43-.59-.52 0-1.04.2-1.43.59L10.3 9.45l-7.72 7.72c-.78.78-.78 2.05 0 2.83L4 21.41c.39.39.9.59 1.41.59.51 0 1.02-.2 1.41-.59l7.78-7.78 2.81-2.81c.8-.78.8-2.07 0-2.86zM5.41 20L4 18.59l7.72-7.72 1.47 1.35L5.41 20z\"/>\n",
              "  </svg>\n",
              "      </button>\n",
              "      \n",
              "  <style>\n",
              "    .colab-df-container {\n",
              "      display:flex;\n",
              "      flex-wrap:wrap;\n",
              "      gap: 12px;\n",
              "    }\n",
              "\n",
              "    .colab-df-convert {\n",
              "      background-color: #E8F0FE;\n",
              "      border: none;\n",
              "      border-radius: 50%;\n",
              "      cursor: pointer;\n",
              "      display: none;\n",
              "      fill: #1967D2;\n",
              "      height: 32px;\n",
              "      padding: 0 0 0 0;\n",
              "      width: 32px;\n",
              "    }\n",
              "\n",
              "    .colab-df-convert:hover {\n",
              "      background-color: #E2EBFA;\n",
              "      box-shadow: 0px 1px 2px rgba(60, 64, 67, 0.3), 0px 1px 3px 1px rgba(60, 64, 67, 0.15);\n",
              "      fill: #174EA6;\n",
              "    }\n",
              "\n",
              "    [theme=dark] .colab-df-convert {\n",
              "      background-color: #3B4455;\n",
              "      fill: #D2E3FC;\n",
              "    }\n",
              "\n",
              "    [theme=dark] .colab-df-convert:hover {\n",
              "      background-color: #434B5C;\n",
              "      box-shadow: 0px 1px 3px 1px rgba(0, 0, 0, 0.15);\n",
              "      filter: drop-shadow(0px 1px 2px rgba(0, 0, 0, 0.3));\n",
              "      fill: #FFFFFF;\n",
              "    }\n",
              "  </style>\n",
              "\n",
              "      <script>\n",
              "        const buttonEl =\n",
              "          document.querySelector('#df-cbee19ca-c04b-43c8-81eb-f2739fe0af6b button.colab-df-convert');\n",
              "        buttonEl.style.display =\n",
              "          google.colab.kernel.accessAllowed ? 'block' : 'none';\n",
              "\n",
              "        async function convertToInteractive(key) {\n",
              "          const element = document.querySelector('#df-cbee19ca-c04b-43c8-81eb-f2739fe0af6b');\n",
              "          const dataTable =\n",
              "            await google.colab.kernel.invokeFunction('convertToInteractive',\n",
              "                                                     [key], {});\n",
              "          if (!dataTable) return;\n",
              "\n",
              "          const docLinkHtml = 'Like what you see? Visit the ' +\n",
              "            '<a target=\"_blank\" href=https://colab.research.google.com/notebooks/data_table.ipynb>data table notebook</a>'\n",
              "            + ' to learn more about interactive tables.';\n",
              "          element.innerHTML = '';\n",
              "          dataTable['output_type'] = 'display_data';\n",
              "          await google.colab.output.renderOutput(dataTable, element);\n",
              "          const docLink = document.createElement('div');\n",
              "          docLink.innerHTML = docLinkHtml;\n",
              "          element.appendChild(docLink);\n",
              "        }\n",
              "      </script>\n",
              "    </div>\n",
              "  </div>\n",
              "  "
            ]
          },
          "metadata": {},
          "execution_count": 27
        }
      ]
    },
    {
      "cell_type": "code",
      "source": [
        "# q7.1) What is the maximum yearly NYC consumption of water in millions of gallons per day?\n",
        "\n",
        "consumption = df[\"NYC Consumption(Million gallons per day)\"] #Create list of NYC Consumption values\n",
        "\n",
        "max_value = np.max(consumption) #Get max value from NYC Consumption list. Code from: https://pythonexamples.org/python-numpy-maximum-value-of-array/\n",
        "print(max_value) #Print the max value"
      ],
      "metadata": {
        "colab": {
          "base_uri": "https://localhost:8080/"
        },
        "id": "-ffrJkeNimT3",
        "outputId": "5909f272-e5cf-4bd0-d4f9-c88f1e3fe734"
      },
      "execution_count": null,
      "outputs": [
        {
          "output_type": "stream",
          "name": "stdout",
          "text": [
            "1512.0\n"
          ]
        }
      ]
    },
    {
      "cell_type": "code",
      "source": [
        "# q7.2) How many calendar years are represented within this data set? NumPy's shape command is one way to find out.\n",
        "\n",
        "year_list = df[\"Year\"] #Create list of Year values\n",
        "year_count = len(year_list) #Get the length of year_list\n",
        "print(year_count) #Print the count for year_list"
      ],
      "metadata": {
        "colab": {
          "base_uri": "https://localhost:8080/"
        },
        "id": "MoGrRg9pkRyb",
        "outputId": "6db3accb-70c8-4dad-ce37-9b19cd646912"
      },
      "execution_count": null,
      "outputs": [
        {
          "output_type": "stream",
          "name": "stdout",
          "text": [
            "39\n"
          ]
        }
      ]
    },
    {
      "cell_type": "code",
      "source": [
        "# q7.3) What is the mean and the standard deviation of the per capita daily water consumption?\n",
        "\n",
        "capita_list = df[\"Per Capita(Gallons per person per day)\"] #Create list of Per Capita(Gallons per person per day) values\n",
        "print(\"Mean of Per Capita(Gallons per person per day) : \", np.mean(capita_list)) #Calculate and print the mean. Code from: https://www.geeksforgeeks.org/numpy-mean-in-python/\n",
        "print(\"Standard Deviation of Per Capita(Gallons per person per day) : \", np.std(capita_list)) #Calculate and print Standard Deviation. Code from: https://www.geeksforgeeks.org/numpy-std-in-python/"
      ],
      "metadata": {
        "colab": {
          "base_uri": "https://localhost:8080/"
        },
        "id": "_ywfLi6Qk98y",
        "outputId": "80d283a0-9771-4037-80d8-0d92cd20d79d"
      },
      "execution_count": null,
      "outputs": [
        {
          "output_type": "stream",
          "name": "stdout",
          "text": [
            "Mean of Per Capita(Gallons per person per day) :  160.30769230769232\n",
            "Standard Deviation of Per Capita(Gallons per person per day) :  31.51894330370624\n"
          ]
        }
      ]
    },
    {
      "cell_type": "code",
      "source": [
        "# q7.4) What is the increase or decrease in population from year to year? \n",
        "# Use NumPy's `diff` function to create an array of differences and save that to a variable called \"pop_diff\", then print that variable to the screen.\n",
        "\n",
        "population_list = df[\"New York City Population\"] #Create list of Year values\n",
        "pop_diff = np.diff(population_list) #Create list of year value differences\n",
        "print(pop_diff) #print list"
      ],
      "metadata": {
        "colab": {
          "base_uri": "https://localhost:8080/"
        },
        "id": "9x6yZJIxnK1m",
        "outputId": "423b5083-e1fb-492a-e9c7-b51a5d431b84"
      },
      "execution_count": null,
      "outputs": [
        {
          "output_type": "stream",
          "name": "stdout",
          "text": [
            "[-30461.   17602.   19864.   72119.   53290.   39540.   45192.   23230.\n",
            "  11243.   -9544.   -8525.   38851.   54443.   77222.   64292.   62582.\n",
            "  64772.   75631.   84816.   89401.   60618.   16685.5  16685.5  16685.5\n",
            "  16685.5  16685.5  16685.5  16685.5  16685.5  16685.5  16685.5 108965.\n",
            "  77081.   61281.   49530.   44512.   21171.   85025. ]\n"
          ]
        }
      ]
    }
  ]
}