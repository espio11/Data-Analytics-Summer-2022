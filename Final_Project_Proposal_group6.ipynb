{
  "nbformat": 4,
  "nbformat_minor": 0,
  "metadata": {
    "colab": {
      "name": "Final_Project_Proposal_group6.ipynb",
      "provenance": [],
      "collapsed_sections": []
    },
    "kernelspec": {
      "name": "python3",
      "display_name": "Python 3"
    },
    "language_info": {
      "name": "python"
    }
  },
  "cells": [
    {
      "cell_type": "markdown",
      "source": [
        "# **Final Project Proposal - Group 6**\n",
        "## **Group Members:**\n",
        "\n",
        "Arun Kuinkel\n",
        "\n",
        "Avigail Spira\n",
        "\n",
        "Cindy Juan\n",
        "\n",
        "Dean Loeafoe\n",
        "\n",
        "## **Introduction**\n",
        "\n",
        "According to pewresearch.org, suicides account for 54% of gun related deaths in 2020. Gun ownership has been a tumultuous issue in America for decades. This problem is exacerbated by the constant disagreement between states and politicians when it comes to the issue of legal gun ownership. This has led to very loose gun ownership and acquisition laws. This in turn makes it easier for one to commit suicide by shooting themselves. Aside from improving gun legislation, it could be possible to use a predictive model to identify contributing factors that would lead one to commit suicide by shooting. We will use gun death data from 2012 to 2014 in an attempt to create such a model.\n",
        "\n",
        "## **Research Question**\n",
        "Are there any attributes that are indicative of a suicide?\n",
        "\n",
        "If our research discovers an attribute or combination of attributes that can help identify a suicide case over other cases in gun deaths, more research can be focused on those factors in order to prevent similar circumstances or events from occuring. At the very least, we hope such a model can contribute to a decrease in gun related suicides and help people focus their efforts for any preventative measures.\n",
        "\n",
        "## **Data to be Used**\n",
        "\n",
        "https://raw.githubusercontent.com/my30/Gun-Death-in-the-US-DQ_Python_Intermediate-/master/full_data.csv\n",
        "\n",
        "## **Approach**\n",
        "We will attempt to create various classification models that will attempt to classify a gun death as a suicide or not. Once we pick the model with the best performance metrics, we will then look at the attributes that contributed the most to that model's success. This will be accomplished by creating multiple logistic models created from different features slelected with varying methods, decision tree regression and an ensemble model built from the previously created logit models.\n"
      ],
      "metadata": {
        "id": "ucGjergOBiOA"
      }
    }
  ]
}
