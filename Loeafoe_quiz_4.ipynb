{
  "nbformat": 4,
  "nbformat_minor": 0,
  "metadata": {
    "colab": {
      "name": "Loeafoe_quiz_4.ipynb",
      "provenance": []
    },
    "kernelspec": {
      "name": "python3",
      "display_name": "Python 3"
    },
    "language_info": {
      "name": "python"
    }
  },
  "cells": [
    {
      "cell_type": "markdown",
      "source": [
        "# **Dean Loeafoe Quiz 4**\n",
        "## **ED and Logistic Regression of Banking Data**\n",
        "### **Part 1 Introduction**\n",
        "The banking industry in the USA is highly regulated. Banks are required to adhere to strict guidelines regarding the\n",
        "management of customer deposits, the maintaining of customer privacy, and the avoidance of discrimination when\n",
        "approving or rejecting loan applications. Many years ago, banks engaged in the practice of “redlining” when approving\n",
        "loans for home mortgages, which basically amounted to the automatic rejection of loan applications for homes located\n",
        "in certain areas that were deemed by banks to be overly prone to loan defaults. When such practices were deemed to\n",
        "be discriminatory by bank regulators, banks adjusted their mortgage lending practices in an attempt to make them more\n",
        "objective. However, regulators remain concerned that discrimination can exist even when what appear to be purely\n",
        "objective criteria are used for purposes of deciding whether or not a customer is approved for a loan.\n",
        "\n",
        "**Statement of Problem**\n",
        "* The task is to develop a model that can predict whether or not a given mortgage loan application is likely to be approved or denied. The regulator plans to use the output of such a model in an attempt\n",
        "to identify potential instances of discrimination in the lending practices of the banks for which it is tasked with\n",
        "regulating.\n",
        "\n",
        "### Part 2: Data **Summary**\n",
        "The data set you will be using is sourced from the Federal Reserve Bank of Boston. The data set comprises 2,381 observations of 1 response/dependent variable (which indicates whether or not a mortgage application was denied) and 12 explanatory/independent variables.\n",
        "\n",
        "*dir - debt payments to total income ratio\n",
        "\n",
        "*hir - housing expenses to income ratio\n",
        "\n",
        "*lvr - ratio of size of loan to assessed value of property\n",
        "\n",
        "*ccs - consumer credit score from 1 to 6 (a low value being a good score)\n",
        "\n",
        "*mcs - mortgage credit score from 1 to 4 (a low value being a good score)\n",
        "\n",
        "*pbcr - public bad credit record ?\n",
        "\n",
        "*dmi - denied mortgage insurance ?\n",
        "\n",
        "*self - self employed ?\n",
        "\n",
        "*single - is the applicant single ?\n",
        "\n",
        "*uria - 1989 Massachusetts unemployment rate in the applicant's industry\n",
        "\n",
        "*condominium - is unit a condominium ? (was called comdominiom in version 0.2-9 and earlier versions of the package)\n",
        "\n",
        "*black - is the applicant black ?\n",
        "\n",
        "*deny - mortgage application denied ?"
      ],
      "metadata": {
        "id": "rJxsbPz-p7eR"
      }
    },
    {
      "cell_type": "code",
      "execution_count": 115,
      "metadata": {
        "colab": {
          "base_uri": "https://localhost:8080/",
          "height": 206
        },
        "id": "Y5yLw0rvojk2",
        "outputId": "fc698d7d-e03a-4aba-dc12-926e88248e73"
      },
      "outputs": [
        {
          "output_type": "execute_result",
          "data": {
            "text/plain": [
              "     dir    hir       lvr  ccs  mcs pbcr dmi self single  uria  comdominiom  \\\n",
              "0  0.221  0.221  0.800000  5.0  2.0   no  no   no     no   3.9            0   \n",
              "1  0.265  0.265  0.921875  2.0  2.0   no  no   no    yes   3.2            0   \n",
              "2  0.372  0.248  0.920398  1.0  2.0   no  no   no     no   3.2            0   \n",
              "3  0.320  0.250  0.860465  1.0  2.0   no  no   no     no   4.3            0   \n",
              "4  0.360  0.350  0.600000  1.0  1.0   no  no   no     no   3.2            0   \n",
              "\n",
              "  black deny  \n",
              "0    no   no  \n",
              "1    no   no  \n",
              "2    no   no  \n",
              "3    no   no  \n",
              "4    no   no  "
            ],
            "text/html": [
              "\n",
              "  <div id=\"df-81e19635-a4ab-4d51-bfe8-041964484cac\">\n",
              "    <div class=\"colab-df-container\">\n",
              "      <div>\n",
              "<style scoped>\n",
              "    .dataframe tbody tr th:only-of-type {\n",
              "        vertical-align: middle;\n",
              "    }\n",
              "\n",
              "    .dataframe tbody tr th {\n",
              "        vertical-align: top;\n",
              "    }\n",
              "\n",
              "    .dataframe thead th {\n",
              "        text-align: right;\n",
              "    }\n",
              "</style>\n",
              "<table border=\"1\" class=\"dataframe\">\n",
              "  <thead>\n",
              "    <tr style=\"text-align: right;\">\n",
              "      <th></th>\n",
              "      <th>dir</th>\n",
              "      <th>hir</th>\n",
              "      <th>lvr</th>\n",
              "      <th>ccs</th>\n",
              "      <th>mcs</th>\n",
              "      <th>pbcr</th>\n",
              "      <th>dmi</th>\n",
              "      <th>self</th>\n",
              "      <th>single</th>\n",
              "      <th>uria</th>\n",
              "      <th>comdominiom</th>\n",
              "      <th>black</th>\n",
              "      <th>deny</th>\n",
              "    </tr>\n",
              "  </thead>\n",
              "  <tbody>\n",
              "    <tr>\n",
              "      <th>0</th>\n",
              "      <td>0.221</td>\n",
              "      <td>0.221</td>\n",
              "      <td>0.800000</td>\n",
              "      <td>5.0</td>\n",
              "      <td>2.0</td>\n",
              "      <td>no</td>\n",
              "      <td>no</td>\n",
              "      <td>no</td>\n",
              "      <td>no</td>\n",
              "      <td>3.9</td>\n",
              "      <td>0</td>\n",
              "      <td>no</td>\n",
              "      <td>no</td>\n",
              "    </tr>\n",
              "    <tr>\n",
              "      <th>1</th>\n",
              "      <td>0.265</td>\n",
              "      <td>0.265</td>\n",
              "      <td>0.921875</td>\n",
              "      <td>2.0</td>\n",
              "      <td>2.0</td>\n",
              "      <td>no</td>\n",
              "      <td>no</td>\n",
              "      <td>no</td>\n",
              "      <td>yes</td>\n",
              "      <td>3.2</td>\n",
              "      <td>0</td>\n",
              "      <td>no</td>\n",
              "      <td>no</td>\n",
              "    </tr>\n",
              "    <tr>\n",
              "      <th>2</th>\n",
              "      <td>0.372</td>\n",
              "      <td>0.248</td>\n",
              "      <td>0.920398</td>\n",
              "      <td>1.0</td>\n",
              "      <td>2.0</td>\n",
              "      <td>no</td>\n",
              "      <td>no</td>\n",
              "      <td>no</td>\n",
              "      <td>no</td>\n",
              "      <td>3.2</td>\n",
              "      <td>0</td>\n",
              "      <td>no</td>\n",
              "      <td>no</td>\n",
              "    </tr>\n",
              "    <tr>\n",
              "      <th>3</th>\n",
              "      <td>0.320</td>\n",
              "      <td>0.250</td>\n",
              "      <td>0.860465</td>\n",
              "      <td>1.0</td>\n",
              "      <td>2.0</td>\n",
              "      <td>no</td>\n",
              "      <td>no</td>\n",
              "      <td>no</td>\n",
              "      <td>no</td>\n",
              "      <td>4.3</td>\n",
              "      <td>0</td>\n",
              "      <td>no</td>\n",
              "      <td>no</td>\n",
              "    </tr>\n",
              "    <tr>\n",
              "      <th>4</th>\n",
              "      <td>0.360</td>\n",
              "      <td>0.350</td>\n",
              "      <td>0.600000</td>\n",
              "      <td>1.0</td>\n",
              "      <td>1.0</td>\n",
              "      <td>no</td>\n",
              "      <td>no</td>\n",
              "      <td>no</td>\n",
              "      <td>no</td>\n",
              "      <td>3.2</td>\n",
              "      <td>0</td>\n",
              "      <td>no</td>\n",
              "      <td>no</td>\n",
              "    </tr>\n",
              "  </tbody>\n",
              "</table>\n",
              "</div>\n",
              "      <button class=\"colab-df-convert\" onclick=\"convertToInteractive('df-81e19635-a4ab-4d51-bfe8-041964484cac')\"\n",
              "              title=\"Convert this dataframe to an interactive table.\"\n",
              "              style=\"display:none;\">\n",
              "        \n",
              "  <svg xmlns=\"http://www.w3.org/2000/svg\" height=\"24px\"viewBox=\"0 0 24 24\"\n",
              "       width=\"24px\">\n",
              "    <path d=\"M0 0h24v24H0V0z\" fill=\"none\"/>\n",
              "    <path d=\"M18.56 5.44l.94 2.06.94-2.06 2.06-.94-2.06-.94-.94-2.06-.94 2.06-2.06.94zm-11 1L8.5 8.5l.94-2.06 2.06-.94-2.06-.94L8.5 2.5l-.94 2.06-2.06.94zm10 10l.94 2.06.94-2.06 2.06-.94-2.06-.94-.94-2.06-.94 2.06-2.06.94z\"/><path d=\"M17.41 7.96l-1.37-1.37c-.4-.4-.92-.59-1.43-.59-.52 0-1.04.2-1.43.59L10.3 9.45l-7.72 7.72c-.78.78-.78 2.05 0 2.83L4 21.41c.39.39.9.59 1.41.59.51 0 1.02-.2 1.41-.59l7.78-7.78 2.81-2.81c.8-.78.8-2.07 0-2.86zM5.41 20L4 18.59l7.72-7.72 1.47 1.35L5.41 20z\"/>\n",
              "  </svg>\n",
              "      </button>\n",
              "      \n",
              "  <style>\n",
              "    .colab-df-container {\n",
              "      display:flex;\n",
              "      flex-wrap:wrap;\n",
              "      gap: 12px;\n",
              "    }\n",
              "\n",
              "    .colab-df-convert {\n",
              "      background-color: #E8F0FE;\n",
              "      border: none;\n",
              "      border-radius: 50%;\n",
              "      cursor: pointer;\n",
              "      display: none;\n",
              "      fill: #1967D2;\n",
              "      height: 32px;\n",
              "      padding: 0 0 0 0;\n",
              "      width: 32px;\n",
              "    }\n",
              "\n",
              "    .colab-df-convert:hover {\n",
              "      background-color: #E2EBFA;\n",
              "      box-shadow: 0px 1px 2px rgba(60, 64, 67, 0.3), 0px 1px 3px 1px rgba(60, 64, 67, 0.15);\n",
              "      fill: #174EA6;\n",
              "    }\n",
              "\n",
              "    [theme=dark] .colab-df-convert {\n",
              "      background-color: #3B4455;\n",
              "      fill: #D2E3FC;\n",
              "    }\n",
              "\n",
              "    [theme=dark] .colab-df-convert:hover {\n",
              "      background-color: #434B5C;\n",
              "      box-shadow: 0px 1px 3px 1px rgba(0, 0, 0, 0.15);\n",
              "      filter: drop-shadow(0px 1px 2px rgba(0, 0, 0, 0.3));\n",
              "      fill: #FFFFFF;\n",
              "    }\n",
              "  </style>\n",
              "\n",
              "      <script>\n",
              "        const buttonEl =\n",
              "          document.querySelector('#df-81e19635-a4ab-4d51-bfe8-041964484cac button.colab-df-convert');\n",
              "        buttonEl.style.display =\n",
              "          google.colab.kernel.accessAllowed ? 'block' : 'none';\n",
              "\n",
              "        async function convertToInteractive(key) {\n",
              "          const element = document.querySelector('#df-81e19635-a4ab-4d51-bfe8-041964484cac');\n",
              "          const dataTable =\n",
              "            await google.colab.kernel.invokeFunction('convertToInteractive',\n",
              "                                                     [key], {});\n",
              "          if (!dataTable) return;\n",
              "\n",
              "          const docLinkHtml = 'Like what you see? Visit the ' +\n",
              "            '<a target=\"_blank\" href=https://colab.research.google.com/notebooks/data_table.ipynb>data table notebook</a>'\n",
              "            + ' to learn more about interactive tables.';\n",
              "          element.innerHTML = '';\n",
              "          dataTable['output_type'] = 'display_data';\n",
              "          await google.colab.output.renderOutput(dataTable, element);\n",
              "          const docLink = document.createElement('div');\n",
              "          docLink.innerHTML = docLinkHtml;\n",
              "          element.appendChild(docLink);\n",
              "        }\n",
              "      </script>\n",
              "    </div>\n",
              "  </div>\n",
              "  "
            ]
          },
          "metadata": {},
          "execution_count": 115
        }
      ],
      "source": [
        "#Initialize data\n",
        "import numpy as np\n",
        "import pandas as pd\n",
        "import statistics\n",
        "import matplotlib.pyplot as plt\n",
        "import seaborn as sns\n",
        "\n",
        "df = pd.read_csv(\"https://raw.githubusercontent.com/espio11/Data-Analytics-Summer-2022/main/HDMA%20Boston%20Housing%20Data\", sep = \",\")\n",
        "del df['Unnamed: 0'] #Deleted unnecessary column that held a row count\n",
        "df.head()"
      ]
    },
    {
      "cell_type": "code",
      "source": [
        "#I did this to ensure the ensure I grabbed the entire file\n",
        "df.tail()"
      ],
      "metadata": {
        "colab": {
          "base_uri": "https://localhost:8080/",
          "height": 206
        },
        "id": "R-3AlLtvwc9n",
        "outputId": "324abfc6-170b-4e3a-9c26-dcb80a175517"
      },
      "execution_count": 52,
      "outputs": [
        {
          "output_type": "execute_result",
          "data": {
            "text/plain": [
              "           dir       hir       lvr       ccs       mcs pbcr dmi self single  \\\n",
              "2376  0.300000  0.300000  0.777049  1.000000  2.000000   no  no   no    yes   \n",
              "2377  0.260000  0.200000  0.526761  2.000000  1.000000   no  no   no     no   \n",
              "2378  0.320000  0.260000  0.753846  6.000000  1.000000  yes  no   no    yes   \n",
              "2379  0.350000  0.260000  0.813559  2.000000  2.000000   no  no   no    yes   \n",
              "2380  0.330814  0.255346  0.700783  2.116387  1.721008  NaN  no  NaN    yes   \n",
              "\n",
              "          uria  comdominiom black deny  \n",
              "2376  3.200000            1    no   no  \n",
              "2377  3.100000            0    no   no  \n",
              "2378  3.100000            1   yes  yes  \n",
              "2379  4.300000            1    no  yes  \n",
              "2380  3.774496            0    no   no  "
            ],
            "text/html": [
              "\n",
              "  <div id=\"df-87659515-8503-463c-8338-b0dcb03a48ef\">\n",
              "    <div class=\"colab-df-container\">\n",
              "      <div>\n",
              "<style scoped>\n",
              "    .dataframe tbody tr th:only-of-type {\n",
              "        vertical-align: middle;\n",
              "    }\n",
              "\n",
              "    .dataframe tbody tr th {\n",
              "        vertical-align: top;\n",
              "    }\n",
              "\n",
              "    .dataframe thead th {\n",
              "        text-align: right;\n",
              "    }\n",
              "</style>\n",
              "<table border=\"1\" class=\"dataframe\">\n",
              "  <thead>\n",
              "    <tr style=\"text-align: right;\">\n",
              "      <th></th>\n",
              "      <th>dir</th>\n",
              "      <th>hir</th>\n",
              "      <th>lvr</th>\n",
              "      <th>ccs</th>\n",
              "      <th>mcs</th>\n",
              "      <th>pbcr</th>\n",
              "      <th>dmi</th>\n",
              "      <th>self</th>\n",
              "      <th>single</th>\n",
              "      <th>uria</th>\n",
              "      <th>comdominiom</th>\n",
              "      <th>black</th>\n",
              "      <th>deny</th>\n",
              "    </tr>\n",
              "  </thead>\n",
              "  <tbody>\n",
              "    <tr>\n",
              "      <th>2376</th>\n",
              "      <td>0.300000</td>\n",
              "      <td>0.300000</td>\n",
              "      <td>0.777049</td>\n",
              "      <td>1.000000</td>\n",
              "      <td>2.000000</td>\n",
              "      <td>no</td>\n",
              "      <td>no</td>\n",
              "      <td>no</td>\n",
              "      <td>yes</td>\n",
              "      <td>3.200000</td>\n",
              "      <td>1</td>\n",
              "      <td>no</td>\n",
              "      <td>no</td>\n",
              "    </tr>\n",
              "    <tr>\n",
              "      <th>2377</th>\n",
              "      <td>0.260000</td>\n",
              "      <td>0.200000</td>\n",
              "      <td>0.526761</td>\n",
              "      <td>2.000000</td>\n",
              "      <td>1.000000</td>\n",
              "      <td>no</td>\n",
              "      <td>no</td>\n",
              "      <td>no</td>\n",
              "      <td>no</td>\n",
              "      <td>3.100000</td>\n",
              "      <td>0</td>\n",
              "      <td>no</td>\n",
              "      <td>no</td>\n",
              "    </tr>\n",
              "    <tr>\n",
              "      <th>2378</th>\n",
              "      <td>0.320000</td>\n",
              "      <td>0.260000</td>\n",
              "      <td>0.753846</td>\n",
              "      <td>6.000000</td>\n",
              "      <td>1.000000</td>\n",
              "      <td>yes</td>\n",
              "      <td>no</td>\n",
              "      <td>no</td>\n",
              "      <td>yes</td>\n",
              "      <td>3.100000</td>\n",
              "      <td>1</td>\n",
              "      <td>yes</td>\n",
              "      <td>yes</td>\n",
              "    </tr>\n",
              "    <tr>\n",
              "      <th>2379</th>\n",
              "      <td>0.350000</td>\n",
              "      <td>0.260000</td>\n",
              "      <td>0.813559</td>\n",
              "      <td>2.000000</td>\n",
              "      <td>2.000000</td>\n",
              "      <td>no</td>\n",
              "      <td>no</td>\n",
              "      <td>no</td>\n",
              "      <td>yes</td>\n",
              "      <td>4.300000</td>\n",
              "      <td>1</td>\n",
              "      <td>no</td>\n",
              "      <td>yes</td>\n",
              "    </tr>\n",
              "    <tr>\n",
              "      <th>2380</th>\n",
              "      <td>0.330814</td>\n",
              "      <td>0.255346</td>\n",
              "      <td>0.700783</td>\n",
              "      <td>2.116387</td>\n",
              "      <td>1.721008</td>\n",
              "      <td>NaN</td>\n",
              "      <td>no</td>\n",
              "      <td>NaN</td>\n",
              "      <td>yes</td>\n",
              "      <td>3.774496</td>\n",
              "      <td>0</td>\n",
              "      <td>no</td>\n",
              "      <td>no</td>\n",
              "    </tr>\n",
              "  </tbody>\n",
              "</table>\n",
              "</div>\n",
              "      <button class=\"colab-df-convert\" onclick=\"convertToInteractive('df-87659515-8503-463c-8338-b0dcb03a48ef')\"\n",
              "              title=\"Convert this dataframe to an interactive table.\"\n",
              "              style=\"display:none;\">\n",
              "        \n",
              "  <svg xmlns=\"http://www.w3.org/2000/svg\" height=\"24px\"viewBox=\"0 0 24 24\"\n",
              "       width=\"24px\">\n",
              "    <path d=\"M0 0h24v24H0V0z\" fill=\"none\"/>\n",
              "    <path d=\"M18.56 5.44l.94 2.06.94-2.06 2.06-.94-2.06-.94-.94-2.06-.94 2.06-2.06.94zm-11 1L8.5 8.5l.94-2.06 2.06-.94-2.06-.94L8.5 2.5l-.94 2.06-2.06.94zm10 10l.94 2.06.94-2.06 2.06-.94-2.06-.94-.94-2.06-.94 2.06-2.06.94z\"/><path d=\"M17.41 7.96l-1.37-1.37c-.4-.4-.92-.59-1.43-.59-.52 0-1.04.2-1.43.59L10.3 9.45l-7.72 7.72c-.78.78-.78 2.05 0 2.83L4 21.41c.39.39.9.59 1.41.59.51 0 1.02-.2 1.41-.59l7.78-7.78 2.81-2.81c.8-.78.8-2.07 0-2.86zM5.41 20L4 18.59l7.72-7.72 1.47 1.35L5.41 20z\"/>\n",
              "  </svg>\n",
              "      </button>\n",
              "      \n",
              "  <style>\n",
              "    .colab-df-container {\n",
              "      display:flex;\n",
              "      flex-wrap:wrap;\n",
              "      gap: 12px;\n",
              "    }\n",
              "\n",
              "    .colab-df-convert {\n",
              "      background-color: #E8F0FE;\n",
              "      border: none;\n",
              "      border-radius: 50%;\n",
              "      cursor: pointer;\n",
              "      display: none;\n",
              "      fill: #1967D2;\n",
              "      height: 32px;\n",
              "      padding: 0 0 0 0;\n",
              "      width: 32px;\n",
              "    }\n",
              "\n",
              "    .colab-df-convert:hover {\n",
              "      background-color: #E2EBFA;\n",
              "      box-shadow: 0px 1px 2px rgba(60, 64, 67, 0.3), 0px 1px 3px 1px rgba(60, 64, 67, 0.15);\n",
              "      fill: #174EA6;\n",
              "    }\n",
              "\n",
              "    [theme=dark] .colab-df-convert {\n",
              "      background-color: #3B4455;\n",
              "      fill: #D2E3FC;\n",
              "    }\n",
              "\n",
              "    [theme=dark] .colab-df-convert:hover {\n",
              "      background-color: #434B5C;\n",
              "      box-shadow: 0px 1px 3px 1px rgba(0, 0, 0, 0.15);\n",
              "      filter: drop-shadow(0px 1px 2px rgba(0, 0, 0, 0.3));\n",
              "      fill: #FFFFFF;\n",
              "    }\n",
              "  </style>\n",
              "\n",
              "      <script>\n",
              "        const buttonEl =\n",
              "          document.querySelector('#df-87659515-8503-463c-8338-b0dcb03a48ef button.colab-df-convert');\n",
              "        buttonEl.style.display =\n",
              "          google.colab.kernel.accessAllowed ? 'block' : 'none';\n",
              "\n",
              "        async function convertToInteractive(key) {\n",
              "          const element = document.querySelector('#df-87659515-8503-463c-8338-b0dcb03a48ef');\n",
              "          const dataTable =\n",
              "            await google.colab.kernel.invokeFunction('convertToInteractive',\n",
              "                                                     [key], {});\n",
              "          if (!dataTable) return;\n",
              "\n",
              "          const docLinkHtml = 'Like what you see? Visit the ' +\n",
              "            '<a target=\"_blank\" href=https://colab.research.google.com/notebooks/data_table.ipynb>data table notebook</a>'\n",
              "            + ' to learn more about interactive tables.';\n",
              "          element.innerHTML = '';\n",
              "          dataTable['output_type'] = 'display_data';\n",
              "          await google.colab.output.renderOutput(dataTable, element);\n",
              "          const docLink = document.createElement('div');\n",
              "          docLink.innerHTML = docLinkHtml;\n",
              "          element.appendChild(docLink);\n",
              "        }\n",
              "      </script>\n",
              "    </div>\n",
              "  </div>\n",
              "  "
            ]
          },
          "metadata": {},
          "execution_count": 52
        }
      ]
    },
    {
      "cell_type": "code",
      "source": [
        "#Checking the shape to make sure all columns and rows are included\n",
        "print(df.shape)"
      ],
      "metadata": {
        "colab": {
          "base_uri": "https://localhost:8080/"
        },
        "id": "AHEYR906xKe8",
        "outputId": "328825be-2758-45c0-d23d-ad31aea951a3"
      },
      "execution_count": 53,
      "outputs": [
        {
          "output_type": "stream",
          "name": "stdout",
          "text": [
            "(2381, 13)\n"
          ]
        }
      ]
    },
    {
      "cell_type": "code",
      "source": [
        "#Checking the data type and non-null count of each column\n",
        "df.info()\n",
        "#non-null objects need to be handled in pbcr and self columns"
      ],
      "metadata": {
        "colab": {
          "base_uri": "https://localhost:8080/"
        },
        "id": "9gHg2o_9L1ei",
        "outputId": "2cc3b328-a7f3-4f7a-c54f-3350a07967ca"
      },
      "execution_count": 54,
      "outputs": [
        {
          "output_type": "stream",
          "name": "stdout",
          "text": [
            "<class 'pandas.core.frame.DataFrame'>\n",
            "RangeIndex: 2381 entries, 0 to 2380\n",
            "Data columns (total 13 columns):\n",
            " #   Column       Non-Null Count  Dtype  \n",
            "---  ------       --------------  -----  \n",
            " 0   dir          2381 non-null   float64\n",
            " 1   hir          2381 non-null   float64\n",
            " 2   lvr          2381 non-null   float64\n",
            " 3   ccs          2381 non-null   float64\n",
            " 4   mcs          2381 non-null   float64\n",
            " 5   pbcr         2380 non-null   object \n",
            " 6   dmi          2381 non-null   object \n",
            " 7   self         2380 non-null   object \n",
            " 8   single       2381 non-null   object \n",
            " 9   uria         2381 non-null   float64\n",
            " 10  comdominiom  2381 non-null   int64  \n",
            " 11  black        2381 non-null   object \n",
            " 12  deny         2381 non-null   object \n",
            "dtypes: float64(6), int64(1), object(6)\n",
            "memory usage: 241.9+ KB\n"
          ]
        }
      ]
    },
    {
      "cell_type": "markdown",
      "source": [
        "## **Part 3: Data preparation**\n",
        "In this section, I will search for and handle any values that are unexpected or do not provide information to the data set. Usually, I would also handle outliers in this section. I will not do so in this case. The reason for this is because I want my model to somewhat be able to draw a meaningful conslusion for an individual with an unusual set of attributes. Leaving in the outliers will aid in this goal."
      ],
      "metadata": {
        "id": "nqtwJxvgAiss"
      }
    },
    {
      "cell_type": "code",
      "source": [
        "#Checking for zero values in columns in which there should not be\n",
        "#No erroneous zero values were found\n",
        "df.min() "
      ],
      "metadata": {
        "colab": {
          "base_uri": "https://localhost:8080/"
        },
        "id": "669VI4cUy7nS",
        "outputId": "f9bdd221-2689-4565-9535-2453ab49f914"
      },
      "execution_count": 55,
      "outputs": [
        {
          "output_type": "stream",
          "name": "stderr",
          "text": [
            "/usr/local/lib/python3.7/dist-packages/ipykernel_launcher.py:3: FutureWarning: Dropping of nuisance columns in DataFrame reductions (with 'numeric_only=None') is deprecated; in a future version this will raise TypeError.  Select only valid columns before calling the reduction.\n",
            "  This is separate from the ipykernel package so we can avoid doing imports until\n"
          ]
        },
        {
          "output_type": "execute_result",
          "data": {
            "text/plain": [
              "dir             0.0\n",
              "hir             0.0\n",
              "lvr            0.02\n",
              "ccs             1.0\n",
              "mcs             1.0\n",
              "dmi              no\n",
              "single           no\n",
              "uria            1.8\n",
              "comdominiom       0\n",
              "black            no\n",
              "deny             no\n",
              "dtype: object"
            ]
          },
          "metadata": {},
          "execution_count": 55
        }
      ]
    },
    {
      "cell_type": "code",
      "source": [
        "#Print unique values and check column for ?\n",
        "temp =  df['dir'].unique()\n",
        "print(temp)\n",
        "if '?' in temp:\n",
        "  print (\"? found!\")\n",
        "else:\n",
        "  print(\"No ? found\")"
      ],
      "metadata": {
        "colab": {
          "base_uri": "https://localhost:8080/"
        },
        "id": "MYYWBcMP5Cev",
        "outputId": "8b72cb50-3dde-4810-b6d4-40567db1aa6b"
      },
      "execution_count": 56,
      "outputs": [
        {
          "output_type": "stream",
          "name": "stdout",
          "text": [
            "[0.221      0.265      0.37200001 0.32       0.36       0.24\n",
            " 0.35       0.28       0.31       0.18       0.23       0.37\n",
            " 0.39       0.33       0.3        0.26       0.34       0.38\n",
            " 0.44       0.41       0.29       0.27       0.16       0.314\n",
            " 0.33200001 0.39900001 0.34200001 0.37599998 0.32099998 0.279\n",
            " 0.31700001 0.285      0.365      0.33700001 0.35200001 0.34400001\n",
            " 0.37799999 0.25799999 0.21799999 0.27200001 0.35900002 0.39700001\n",
            " 0.219      0.38799999 0.25       0.31200001 0.35799999 0.61\n",
            " 0.26299999 0.26200001 0.46       0.305      0.38400001 0.264\n",
            " 0.47       0.19       0.38200001 0.325      0.39799999 0.395\n",
            " 0.40700001 0.301      0.266      0.26799999 0.269      0.40900001\n",
            " 0.30799999 0.311      0.32799999 0.38380001 0.33799999 0.281\n",
            " 0.3923     0.36299999 0.2458     0.38209999 0.286      0.315\n",
            " 0.30469999 0.36599999 0.37099998 0.38099998 0.26520001 0.35700001\n",
            " 0.43       0.4        0.40599999 0.73       0.38299999 0.29299999\n",
            " 0.24030001 0.194      0.294      0.3798     0.3359     0.39029999\n",
            " 0.39279999 0.3841     0.33400001 0.3309     0.33689999 0.3423\n",
            " 0.3027     0.3191     0.24629999 0.28200001 0.32439999 0.34799999\n",
            " 0.296      0.3198     0.40009998 0.27629999 0.35240002 0.1238\n",
            " 0.2116     0.2826     0.289      0.42       0.2        0.49\n",
            " 0.45       0.08       0.48       0.35509998 0.14       0.27040001\n",
            " 0.375      0.3357     0.27790001 0.36290001 0.30879999 0.3149\n",
            " 0.27520001 0.33270001 0.2642     0.33970001 0.36060001 0.3768\n",
            " 0.54       0.35099999 0.38900001 0.15       0.22       0.21\n",
            " 0.         0.2102     0.39450001 0.3044     0.31360001 0.30229999\n",
            " 0.19950001 0.27450001 0.31799999 0.35689999 0.254      0.2406\n",
            " 0.4168     0.38860001 0.34080002 0.36700001 0.95       0.239\n",
            " 0.33099998 0.355      0.40889999 0.165      0.30700001 0.235\n",
            " 0.31299999 0.231      0.304      0.34700001 0.47200001 0.425\n",
            " 0.319      0.0699     0.34099999 0.34900001 0.39599998 0.275\n",
            " 0.31049999 0.46799999 0.24200001 0.69199997 0.57599999 0.3541\n",
            " 0.47900002 0.35599999 0.17299999 0.405      0.25200001 0.24799999\n",
            " 0.39099998 0.28299999 0.056      0.58400001 0.25270001 0.316\n",
            " 0.36900002 0.22200001 0.25299999 0.184      0.30370001 0.53\n",
            " 0.32580002 0.39240002 0.2251     0.38169998 0.3375     0.1\n",
            " 0.17       0.33119999 0.35130001 0.45700001 0.41689999 0.2191\n",
            " 0.2052     0.46110001 0.3466     0.3167     0.37279999 0.66099999\n",
            " 0.35619999 0.37450001 0.38389999 0.36139999 0.26639999 0.32209999\n",
            " 0.23110001 0.36450001 0.4266     0.28979999 0.81419998 0.37139999\n",
            " 0.29639999 0.35349999 0.3475     0.49970001 0.3743     0.4677\n",
            " 0.1043     0.32279999 0.2932     0.33560001 0.41669998 0.2575\n",
            " 0.3577     0.4668     0.216      0.27700001 0.505      0.58\n",
            " 0.249      1.16       0.27799999 0.28799999 0.48299999 0.29700001\n",
            " 0.36200001 0.32299999 0.40400001 0.13       0.07       0.2465\n",
            " 0.37700001 0.121      0.23299999 0.28700001 0.245      0.295\n",
            " 0.39299999 0.29799999 0.40299999 0.38599998 0.306      0.385\n",
            " 0.21200001 0.175      0.29959999 0.24299999 0.155      0.2474\n",
            " 0.34580002 0.2809     0.27120001 0.51       0.66       0.59\n",
            " 0.52       0.83       0.3448     0.36400002 0.176      0.37400002\n",
            " 0.284      0.33610001 0.255      0.31110001 0.32599998 0.32810001\n",
            " 0.32200001 0.225      0.22360001 0.22299999 0.169      0.42200001\n",
            " 0.32619999 0.37900002 0.65       0.4075     0.35919998 0.19559999\n",
            " 0.3074     0.32400001 0.22799999 0.37490002 0.45400001 0.28729999\n",
            " 0.174      0.33299999 0.164      0.241      0.41400001 0.2594\n",
            " 0.48990002 0.40369999 0.30200001 0.209      0.40099999 0.146\n",
            " 0.78       0.63       0.57       0.5        0.35299999 0.276\n",
            " 3.         0.21700001 0.2618     0.12       0.55       0.75\n",
            " 0.41200001 0.26700001 0.244      1.28       0.201      0.27969999\n",
            " 0.2673     0.28440001 0.30729999 0.36610001 0.4391     0.114\n",
            " 0.57700001 0.48700001 0.43099998 0.32040001 0.36689999 0.40990002\n",
            " 0.1062     0.69       0.11       0.56       0.04       0.74\n",
            " 1.42       0.2343     0.39200001 0.34849999 0.261      0.126\n",
            " 0.099      0.37299999 0.236      0.143      0.19299999 0.35479999\n",
            " 0.32880001 0.3151     0.34959999 0.345      0.37770001 0.35810001\n",
            " 0.32700001 0.44200001 0.38700001 0.33599999 0.34720001 0.31719999\n",
            " 0.51799999 0.32950001 0.32290001 0.309      0.35400002 0.36799999\n",
            " 0.2956     0.36099999 0.37259998 0.2775     0.37310001 0.32060001\n",
            " 0.3065     0.3527     0.41470001 0.156      0.37669998 0.1553\n",
            " 0.33830002 0.299      0.1751     0.36869999 0.32380001 0.3106\n",
            " 0.35540001 0.33650001 0.32369999 0.33389    0.3008     0.30299999\n",
            " 0.1693     0.36380001 0.19270001 0.1777     0.32049999 0.29209999\n",
            " 0.29389999 0.44470001 0.39360001 0.3016     0.42740002 0.35139999\n",
            " 0.3493     0.37229999 0.33529999 0.38849998 0.4209     0.47779999\n",
            " 0.40979999 0.1944     0.46450001 0.34169998 0.31770001 0.3083\n",
            " 0.35369999 0.39380001 0.39220001 0.20049999 0.47939999 0.3115\n",
            " 0.1135     0.31889999 0.35169998 0.2442     0.3184     0.19219999\n",
            " 0.42150002 0.3393     0.1079     0.26790001 0.3582     0.25379999\n",
            " 0.2952     0.2931     0.29879999 0.33779999 0.4009     0.39049999\n",
            " 0.40020001 0.39529999 0.24229999 0.2476     0.32220001 0.32169998\n",
            " 0.3094     0.33720001 0.35830002 0.3525     0.28309999 0.3207\n",
            " 0.43150002 0.31959999 0.39959999 0.32110001 0.48400002 0.32869999\n",
            " 0.2866     0.3158     0.4191     0.37790001 0.37330002 0.29200001\n",
            " 0.3031     0.30709999 0.3318     0.33869999 0.3194     0.2917\n",
            " 0.2542     0.38009998 0.3168     0.38520001 0.34529999 0.2967\n",
            " 0.2758     0.35560001 0.30219999 0.2185     0.36560001 0.3323\n",
            " 0.2875     0.26219999 0.35290001 0.3534     0.37270001 0.3033\n",
            " 0.29860001 0.3702     0.09       0.33081357]\n",
            "No ? found\n"
          ]
        },
        {
          "output_type": "stream",
          "name": "stderr",
          "text": [
            "/usr/local/lib/python3.7/dist-packages/ipykernel_launcher.py:4: FutureWarning: elementwise comparison failed; returning scalar instead, but in the future will perform elementwise comparison\n",
            "  after removing the cwd from sys.path.\n"
          ]
        }
      ]
    },
    {
      "cell_type": "code",
      "source": [
        "#Print unique values and check column for ?\n",
        "temp =  df['hir'].unique()\n",
        "print(temp)\n",
        "if '?' in temp:\n",
        "  print (\"? found!\")\n",
        "else:\n",
        "  print(\"No ? found\")"
      ],
      "metadata": {
        "colab": {
          "base_uri": "https://localhost:8080/"
        },
        "id": "r4HIpnAt4_7v",
        "outputId": "e010f2f9-65a9-45f1-b025-2f822d82c389"
      },
      "execution_count": 57,
      "outputs": [
        {
          "output_type": "stream",
          "name": "stdout",
          "text": [
            "[2.21000004e-01 2.65000000e-01 2.47999992e-01 2.50000000e-01\n",
            " 3.50000000e-01 1.70000000e-01 2.90000000e-01 2.20000000e-01\n",
            " 2.40000000e-01 2.70000000e-01 3.00000000e-01 3.40000000e-01\n",
            " 1.50000000e-01 2.80000000e-01 3.10000000e-01 3.20000000e-01\n",
            " 3.30000000e-01 1.30000000e-01 2.10000000e-01 2.00000000e-01\n",
            " 2.60000000e-01 1.00000000e-01 1.90000000e-01 8.00000000e-02\n",
            " 2.81000004e-01 2.72000008e-01 3.22000008e-01 2.77999992e-01\n",
            " 2.51000004e-01 2.07999992e-01 2.46000004e-01 3.13999996e-01\n",
            " 2.88999996e-01 2.25000000e-01 1.93999996e-01 8.19999980e-02\n",
            " 2.85000000e-01 2.43999996e-01 2.12999992e-01 1.80000000e-01\n",
            " 2.56000004e-01 2.30000000e-01 1.01999998e-01 3.90000000e-01\n",
            " 2.26000004e-01 2.57999992e-01 2.17999992e-01 2.15000000e-01\n",
            " 3.08999996e-01 1.41999998e-01 2.77000008e-01 2.61000004e-01\n",
            " 3.22999992e-01 3.57999992e-01 3.06000004e-01 3.37000008e-01\n",
            " 1.98999996e-01 3.17999992e-01 2.57000008e-01 2.42000008e-01\n",
            " 3.15000000e-01 3.11000004e-01 1.60000000e-01 3.27999992e-01\n",
            " 2.89400005e-01 2.52999992e-01 2.71000004e-01 3.33800011e-01\n",
            " 2.08999996e-01 2.30799999e-01 3.30900002e-01 2.55000000e-01\n",
            " 2.87000008e-01 2.38999996e-01 2.92000008e-01 2.72999992e-01\n",
            " 2.45000000e-01 3.18999996e-01 2.12500000e-01 1.97000008e-01\n",
            " 4.05999985e-01 3.70000000e-01 3.60900002e-01 2.35000000e-01\n",
            " 1.15000000e-01 2.58999996e-01 2.68999996e-01 2.79599991e-01\n",
            " 2.19400005e-01 2.77199993e-01 3.03799992e-01 2.09099998e-01\n",
            " 2.86000004e-01 3.00499992e-01 3.21399994e-01 2.57700005e-01\n",
            " 2.65200005e-01 2.11000004e-01 2.52700005e-01 2.51200008e-01\n",
            " 2.91800003e-01 1.88899994e-01 2.96000004e-01 2.62700005e-01\n",
            " 2.78799992e-01 2.54400005e-01 2.89899998e-01 1.21800003e-01\n",
            " 1.81800003e-01 2.75200005e-01 2.84599991e-01 1.10000000e-01\n",
            " 4.00000000e-02 7.00000000e-02 1.00000000e-02 3.60000000e-01\n",
            " 1.99799995e-01 1.67500000e-01 2.69699993e-01 3.24599991e-01\n",
            " 8.50000000e-04 1.20000000e-01 3.01499996e-01 2.25599995e-01\n",
            " 2.82000008e-01 2.57900009e-01 2.03299999e-01 2.67700005e-01\n",
            " 2.58500004e-01 1.78199997e-01 2.80200005e-01 2.02000008e-01\n",
            " 5.40000000e-01 4.30000000e-01 5.00000000e-02 4.70000000e-01\n",
            " 2.07000008e-01 3.32299995e-01 1.97999992e-01 2.87600002e-01\n",
            " 2.63400002e-01 1.76200008e-01 1.72199993e-01 3.12000008e-01\n",
            " 2.37999992e-01 1.80900002e-01 2.42999992e-01 2.28500004e-01\n",
            " 3.25999985e-01 3.88600006e-01 2.25400009e-01 4.40000000e-01\n",
            " 2.62000008e-01 3.30999985e-01 2.72900009e-01 5.40000010e-02\n",
            " 2.31000004e-01 2.87999992e-01 1.82999992e-01 2.02999992e-01\n",
            " 3.45999985e-01 2.27999992e-01 3.03999996e-01 3.45000000e-01\n",
            " 6.98999980e-02 3.40999985e-01 2.78999996e-01 2.38199997e-01\n",
            " 3.62000008e-01 2.61299992e-01 1.77000008e-01 5.35999985e-01\n",
            " 3.29000015e-01 1.94699993e-01 4.75000000e-01 1.68999996e-01\n",
            " 1.75000000e-01 9.69999980e-02 2.73999996e-01 2.76000004e-01\n",
            " 8.80000020e-02 2.82999992e-01 5.30000020e-02 3.75000000e-01\n",
            " 4.47000008e-01 2.50599995e-01 2.83999996e-01 3.16000004e-01\n",
            " 2.98999996e-01 1.67999992e-01 1.66000004e-01 9.04000000e-02\n",
            " 2.65799999e-01 2.47900009e-01 1.93400002e-01 2.38500004e-01\n",
            " 2.27500000e-01 6.00000000e-02 1.72500000e-01 2.56900005e-01\n",
            " 2.93299999e-01 2.10900002e-01 2.09500008e-01 1.58999996e-01\n",
            " 3.71500015e-01 3.15799999e-01 2.08899994e-01 2.64899998e-01\n",
            " 6.60999985e-01 2.64300003e-01 2.62999992e-01 2.55599995e-01\n",
            " 2.34300003e-01 2.41800003e-01 2.75499992e-01 2.07199993e-01\n",
            " 3.28800011e-01 2.96700001e-01 3.93300018e-01 3.18899994e-01\n",
            " 2.34500008e-01 2.52000008e-01 2.20900002e-01 3.55299988e-01\n",
            " 3.67999992e-01 9.64000030e-02 3.22799988e-01 2.80499992e-01\n",
            " 3.20800018e-01 2.65100002e-01 2.14500008e-01 1.41199999e-01\n",
            " 4.63199997e-01 1.23999996e-01 2.05000000e-01 1.45000000e-01\n",
            " 9.00000000e-02 7.10000000e-01 5.20000000e-01 1.55000000e-01\n",
            " 1.33000002e-01 7.40000000e-01 1.62000008e-01 2.06000004e-01\n",
            " 2.27000008e-01 2.22000008e-01 3.44000015e-01 2.63999996e-01\n",
            " 1.78999996e-01 2.00000000e-02 2.44699993e-01 2.13999996e-01\n",
            " 7.40000010e-02 2.97000008e-01 1.87999992e-01 3.01000004e-01\n",
            " 2.22999992e-01 2.67000008e-01 3.11299992e-01 2.32000008e-01\n",
            " 2.76399994e-01 1.25000000e-01 2.27800007e-01 0.00000000e+00\n",
            " 3.45800018e-01 2.39699993e-01 2.71200008e-01 5.80000000e-01\n",
            " 4.10000000e-01 5.10000000e-01 2.37000008e-01 4.90000000e-01\n",
            " 4.00000000e-01 1.56999998e-01 3.02999992e-01 1.72999992e-01\n",
            " 3.17199993e-01 3.42000008e-01 2.53999996e-01 3.17500000e-01\n",
            " 1.71000004e-01 3.00799999e-01 3.07500000e-01 3.12999992e-01\n",
            " 2.12000008e-01 2.16900005e-01 3.70999985e-01 1.98899994e-01\n",
            " 2.66000004e-01 3.11599998e-01 2.95000000e-01 1.45100002e-01\n",
            " 2.17000008e-01 3.02299995e-01 3.07099991e-01 2.41000004e-01\n",
            " 1.67000008e-01 2.51399994e-01 2.67999992e-01 2.36000004e-01\n",
            " 4.02000008e-01 1.88999996e-01 2.48600006e-01 1.31000004e-01\n",
            " 3.15499992e-01 2.75000000e-01 6.19999980e-02 1.40000000e-01\n",
            " 4.50000000e-01 4.60000000e-01 4.20000000e-01 7.20000000e-01\n",
            " 3.80000000e-01 1.48000002e-01 3.35999985e-01 1.96000004e-01\n",
            " 3.00000000e+00 2.93999996e-01 1.36999998e-01 1.23299999e-01\n",
            " 3.27000008e-01 3.77999992e-01 3.07999992e-01 1.63999996e-01\n",
            " 1.85000000e-01 2.03999996e-01 1.46000004e-01 7.30000000e-01\n",
            " 4.80000000e-01 2.92999992e-01 2.52199993e-01 1.89099998e-01\n",
            " 2.14300003e-01 3.21899986e-01 2.91399994e-01 2.48999996e-01\n",
            " 4.26100006e-01 8.30000020e-02 2.97999992e-01 2.69899998e-01\n",
            " 2.58299999e-01 2.03899994e-01 2.80000000e-02 5.00000000e-01\n",
            " 6.60000000e-01 1.10000000e+00 5.90000000e-01 2.29300003e-01\n",
            " 2.33999996e-01 5.80000020e-02 2.50200005e-01 3.07000008e-01\n",
            " 1.18999996e-01 3.02399998e-01 3.15100002e-01 2.67900009e-01\n",
            " 3.05000000e-01 2.47000008e-01 2.71399994e-01 2.19300003e-01\n",
            " 2.71299992e-01 2.88299999e-01 3.34000015e-01 3.07199993e-01\n",
            " 9.01000020e-02 3.01900005e-01 3.77000008e-01 3.06499996e-01\n",
            " 2.74200001e-01 2.84500008e-01 1.92000008e-01 1.51000004e-01\n",
            " 2.43299999e-01 2.91000004e-01 2.75400009e-01 2.75699997e-01\n",
            " 2.77500000e-01 2.83799992e-01 2.79699993e-01 1.93099995e-01\n",
            " 1.86000004e-01 1.28000002e-01 2.68400002e-01 3.08799992e-01\n",
            " 1.53000002e-01 3.80999985e-01 3.12399998e-01 1.33299999e-01\n",
            " 2.18999996e-01 2.77900009e-01 2.23099995e-01 1.71200008e-01\n",
            " 2.87299995e-01 2.53799992e-01 1.56000004e-01 3.00200005e-01\n",
            " 2.54820004e-01 2.86399994e-01 2.31299992e-01 9.52999970e-02\n",
            " 1.88239994e-01 1.25400000e-01 3.17000008e-01 2.74899998e-01\n",
            " 2.41399994e-01 2.84200001e-01 2.45900002e-01 3.60699997e-01\n",
            " 1.72700005e-01 2.57500000e-01 3.52999992e-01 3.51399994e-01\n",
            " 1.94799995e-01 2.95799999e-01 2.45799999e-01 2.65300007e-01\n",
            " 2.81399994e-01 2.55699997e-01 3.66199989e-01 3.14699993e-01\n",
            " 1.92600002e-01 3.47000008e-01 2.53299999e-01 2.97099991e-01\n",
            " 1.88500004e-01 2.82500000e-01 3.93800011e-01 2.31100006e-01\n",
            " 4.68499985e-01 9.77999970e-02 1.84099998e-01 2.56100006e-01\n",
            " 1.95100002e-01 2.35599995e-01 1.77700005e-01 3.82400017e-01\n",
            " 2.11800003e-01 8.81999970e-02 1.03800001e-01 2.80599995e-01\n",
            " 2.82800007e-01 2.71599998e-01 2.98799992e-01 2.98899994e-01\n",
            " 3.66699982e-01 3.06100006e-01 2.79799995e-01 3.12700005e-01\n",
            " 3.18199997e-01 3.31100006e-01 2.31499996e-01 2.04500008e-01\n",
            " 3.65200005e-01 2.42199993e-01 3.15300007e-01 2.99200001e-01\n",
            " 2.83099995e-01 2.89099998e-01 2.95599995e-01 2.96200008e-01\n",
            " 3.43899994e-01 3.09899998e-01 2.01800003e-01 2.33500004e-01\n",
            " 3.00000000e-02 4.72000008e-01 2.88899994e-01 1.99200001e-01\n",
            " 1.69099998e-01 3.59900017e-01 2.28600006e-01 3.22099991e-01\n",
            " 2.73199997e-01 2.07399998e-01 2.90400009e-01 3.11800003e-01\n",
            " 2.93600006e-01 2.68099995e-01 2.84400005e-01 2.79559994e-01\n",
            " 2.33899994e-01 2.13099995e-01 2.38799992e-01 2.19200001e-01\n",
            " 1.76299992e-01 2.82600002e-01 2.51299992e-01 2.50400009e-01\n",
            " 1.77199993e-01 2.66200008e-01 2.64099998e-01 3.30099983e-01\n",
            " 2.22800007e-01 2.55799999e-01 2.76700001e-01 2.74400005e-01\n",
            " 2.78299999e-01 2.67800007e-01 2.91299992e-01 3.25000000e-01\n",
            " 2.55346122e-01]\n",
            "No ? found\n"
          ]
        },
        {
          "output_type": "stream",
          "name": "stderr",
          "text": [
            "/usr/local/lib/python3.7/dist-packages/ipykernel_launcher.py:4: FutureWarning: elementwise comparison failed; returning scalar instead, but in the future will perform elementwise comparison\n",
            "  after removing the cwd from sys.path.\n"
          ]
        }
      ]
    },
    {
      "cell_type": "code",
      "source": [
        "#Print unique values and check column for ?\n",
        "temp =  df['lvr'].unique()\n",
        "print(temp)\n",
        "if '?' in temp:\n",
        "  print (\"? found!\")\n",
        "else:\n",
        "  print(\"No ? found\")"
      ],
      "metadata": {
        "colab": {
          "base_uri": "https://localhost:8080/"
        },
        "id": "lVAFkT1248Fx",
        "outputId": "2bdb2584-1466-41f2-d329-cc58852fef9b"
      },
      "execution_count": 58,
      "outputs": [
        {
          "output_type": "stream",
          "name": "stdout",
          "text": [
            "[0.8        0.921875   0.92039801 ... 0.52676056 0.81355932 0.7007829 ]\n",
            "No ? found\n"
          ]
        },
        {
          "output_type": "stream",
          "name": "stderr",
          "text": [
            "/usr/local/lib/python3.7/dist-packages/ipykernel_launcher.py:4: FutureWarning: elementwise comparison failed; returning scalar instead, but in the future will perform elementwise comparison\n",
            "  after removing the cwd from sys.path.\n"
          ]
        }
      ]
    },
    {
      "cell_type": "code",
      "source": [
        "#Print unique values and check column for ?\n",
        "temp =  df['ccs'].unique()\n",
        "print(temp)\n",
        "if '?' in temp:\n",
        "  print (\"? found!\")\n",
        "else:\n",
        "  print(\"No ? found\")"
      ],
      "metadata": {
        "colab": {
          "base_uri": "https://localhost:8080/"
        },
        "id": "-GDQYM0U45QA",
        "outputId": "c74f5f88-0ecc-4530-c0e3-c89e96330f8d"
      },
      "execution_count": 59,
      "outputs": [
        {
          "output_type": "stream",
          "name": "stdout",
          "text": [
            "[5.         2.         1.         6.         3.         4.\n",
            " 2.11638656]\n",
            "No ? found\n"
          ]
        },
        {
          "output_type": "stream",
          "name": "stderr",
          "text": [
            "/usr/local/lib/python3.7/dist-packages/ipykernel_launcher.py:4: FutureWarning: elementwise comparison failed; returning scalar instead, but in the future will perform elementwise comparison\n",
            "  after removing the cwd from sys.path.\n"
          ]
        }
      ]
    },
    {
      "cell_type": "code",
      "source": [
        "#Print unique values and check column for ?\n",
        "temp =  df['mcs'].unique()\n",
        "print(temp)\n",
        "if '?' in temp:\n",
        "  print (\"? found!\")\n",
        "else:\n",
        "  print(\"No ? found\")"
      ],
      "metadata": {
        "colab": {
          "base_uri": "https://localhost:8080/"
        },
        "id": "hLyKHnbH403w",
        "outputId": "b6e3bb17-736a-4957-dd73-3decaa21213c"
      },
      "execution_count": 60,
      "outputs": [
        {
          "output_type": "stream",
          "name": "stdout",
          "text": [
            "[2.        1.        4.        3.        1.7210084]\n",
            "No ? found\n"
          ]
        },
        {
          "output_type": "stream",
          "name": "stderr",
          "text": [
            "/usr/local/lib/python3.7/dist-packages/ipykernel_launcher.py:4: FutureWarning: elementwise comparison failed; returning scalar instead, but in the future will perform elementwise comparison\n",
            "  after removing the cwd from sys.path.\n"
          ]
        }
      ]
    },
    {
      "cell_type": "code",
      "source": [
        "#Print unique values and check column for ?\n",
        "temp =  df['pbcr'].unique()\n",
        "print(temp)\n",
        "if '?' in temp:\n",
        "  print (\"? found!\")\n",
        "else:\n",
        "  print(\"No ? found\")"
      ],
      "metadata": {
        "colab": {
          "base_uri": "https://localhost:8080/"
        },
        "id": "wKJRpEjjM2mY",
        "outputId": "1d7cfb7c-23de-4aba-b6a4-379d1eda40a6"
      },
      "execution_count": 61,
      "outputs": [
        {
          "output_type": "stream",
          "name": "stdout",
          "text": [
            "['no' 'yes' nan]\n",
            "No ? found\n"
          ]
        }
      ]
    },
    {
      "cell_type": "code",
      "source": [
        "#Check to see if the non-null count for pbcr has increased after changes have been made\n",
        "df['pbcr'].fillna(df['pbcr'].mode()[0], inplace=True)\n",
        "df.info()"
      ],
      "metadata": {
        "colab": {
          "base_uri": "https://localhost:8080/"
        },
        "id": "zUk7fok4OX2O",
        "outputId": "c26f7158-3ee1-46c3-edbf-dcc6bd4d6f4b"
      },
      "execution_count": 62,
      "outputs": [
        {
          "output_type": "stream",
          "name": "stdout",
          "text": [
            "<class 'pandas.core.frame.DataFrame'>\n",
            "RangeIndex: 2381 entries, 0 to 2380\n",
            "Data columns (total 13 columns):\n",
            " #   Column       Non-Null Count  Dtype  \n",
            "---  ------       --------------  -----  \n",
            " 0   dir          2381 non-null   float64\n",
            " 1   hir          2381 non-null   float64\n",
            " 2   lvr          2381 non-null   float64\n",
            " 3   ccs          2381 non-null   float64\n",
            " 4   mcs          2381 non-null   float64\n",
            " 5   pbcr         2381 non-null   object \n",
            " 6   dmi          2381 non-null   object \n",
            " 7   self         2380 non-null   object \n",
            " 8   single       2381 non-null   object \n",
            " 9   uria         2381 non-null   float64\n",
            " 10  comdominiom  2381 non-null   int64  \n",
            " 11  black        2381 non-null   object \n",
            " 12  deny         2381 non-null   object \n",
            "dtypes: float64(6), int64(1), object(6)\n",
            "memory usage: 241.9+ KB\n"
          ]
        }
      ]
    },
    {
      "cell_type": "code",
      "source": [
        "#Double check that the abnormal values were handled\n",
        "temp =  df['pbcr'].unique()\n",
        "print(temp)"
      ],
      "metadata": {
        "colab": {
          "base_uri": "https://localhost:8080/"
        },
        "id": "Z7AjLw7tPI3s",
        "outputId": "2eaaaf30-6b22-49c0-fec8-b7df21cda2b8"
      },
      "execution_count": 63,
      "outputs": [
        {
          "output_type": "stream",
          "name": "stdout",
          "text": [
            "['no' 'yes']\n"
          ]
        }
      ]
    },
    {
      "cell_type": "code",
      "source": [
        "#Print unique values and check column for ?\n",
        "temp =  df['dmi'].unique()\n",
        "print(temp)\n",
        "if '?' in temp:\n",
        "  print (\"? found!\")\n",
        "else:\n",
        "  print(\"No ? found\")"
      ],
      "metadata": {
        "colab": {
          "base_uri": "https://localhost:8080/"
        },
        "id": "4rI3EUis4x7A",
        "outputId": "fc269b18-86c3-4f27-f93d-324ef36769fe"
      },
      "execution_count": 64,
      "outputs": [
        {
          "output_type": "stream",
          "name": "stdout",
          "text": [
            "['no' 'yes']\n",
            "No ? found\n"
          ]
        }
      ]
    },
    {
      "cell_type": "code",
      "source": [
        "#Print unique values and check column for ?\n",
        "temp =  df['self'].unique()\n",
        "print(temp)\n",
        "if '?' in temp:\n",
        "  print (\"? found!\")\n",
        "else:\n",
        "  print(\"No ? found\")"
      ],
      "metadata": {
        "colab": {
          "base_uri": "https://localhost:8080/"
        },
        "id": "r-3FfPyEPszD",
        "outputId": "6529fea2-134f-4ae1-9bec-3d348f7dd2e1"
      },
      "execution_count": 65,
      "outputs": [
        {
          "output_type": "stream",
          "name": "stdout",
          "text": [
            "['no' 'yes' nan]\n",
            "No ? found\n"
          ]
        }
      ]
    },
    {
      "cell_type": "code",
      "source": [
        "#Check to see if the non-null count for self has increased after changes have been made\n",
        "df['self'].fillna(df['self'].mode()[0], inplace=True)\n",
        "df.info()"
      ],
      "metadata": {
        "colab": {
          "base_uri": "https://localhost:8080/"
        },
        "id": "-ql_iuydRzNb",
        "outputId": "4f94c3cd-3992-451a-8a8b-776f24a0e436"
      },
      "execution_count": 66,
      "outputs": [
        {
          "output_type": "stream",
          "name": "stdout",
          "text": [
            "<class 'pandas.core.frame.DataFrame'>\n",
            "RangeIndex: 2381 entries, 0 to 2380\n",
            "Data columns (total 13 columns):\n",
            " #   Column       Non-Null Count  Dtype  \n",
            "---  ------       --------------  -----  \n",
            " 0   dir          2381 non-null   float64\n",
            " 1   hir          2381 non-null   float64\n",
            " 2   lvr          2381 non-null   float64\n",
            " 3   ccs          2381 non-null   float64\n",
            " 4   mcs          2381 non-null   float64\n",
            " 5   pbcr         2381 non-null   object \n",
            " 6   dmi          2381 non-null   object \n",
            " 7   self         2381 non-null   object \n",
            " 8   single       2381 non-null   object \n",
            " 9   uria         2381 non-null   float64\n",
            " 10  comdominiom  2381 non-null   int64  \n",
            " 11  black        2381 non-null   object \n",
            " 12  deny         2381 non-null   object \n",
            "dtypes: float64(6), int64(1), object(6)\n",
            "memory usage: 241.9+ KB\n"
          ]
        }
      ]
    },
    {
      "cell_type": "code",
      "source": [
        "#Double check that the abnormal values were handled\n",
        "temp =  df['pbcr'].unique()\n",
        "print(temp)"
      ],
      "metadata": {
        "colab": {
          "base_uri": "https://localhost:8080/"
        },
        "id": "qJWN_URzSSEp",
        "outputId": "53409e12-b9c3-45a7-bfdf-00e7bb809b47"
      },
      "execution_count": 67,
      "outputs": [
        {
          "output_type": "stream",
          "name": "stdout",
          "text": [
            "['no' 'yes']\n"
          ]
        }
      ]
    },
    {
      "cell_type": "code",
      "source": [
        "#Print unique values and check column for ?\n",
        "temp =  df['single'].unique()\n",
        "print(temp)\n",
        "if '?' in temp:\n",
        "  print (\"? found!\")\n",
        "else:\n",
        "  print(\"No ? found\")"
      ],
      "metadata": {
        "colab": {
          "base_uri": "https://localhost:8080/"
        },
        "id": "mYpQBYI_4uhg",
        "outputId": "3c1ac6ac-71f8-43db-add5-f68ddfdf16a5"
      },
      "execution_count": 68,
      "outputs": [
        {
          "output_type": "stream",
          "name": "stdout",
          "text": [
            "['no' 'yes']\n",
            "No ? found\n"
          ]
        }
      ]
    },
    {
      "cell_type": "code",
      "source": [
        "#Print unique values and check column for ?\n",
        "temp =  df['uria'].unique()\n",
        "print(temp)\n",
        "if '?' in temp:\n",
        "  print (\"? found!\")\n",
        "else:\n",
        "  print(\"No ? found\")"
      ],
      "metadata": {
        "colab": {
          "base_uri": "https://localhost:8080/"
        },
        "id": "DAhzxLJv4ksQ",
        "outputId": "6dddea36-e4db-44c7-c22c-94cdb092eead"
      },
      "execution_count": 69,
      "outputs": [
        {
          "output_type": "stream",
          "name": "stdout",
          "text": [
            "[ 3.9000001   3.20000005  4.30000019  1.79999995  3.0999999  10.60000038\n",
            "  5.30000019  3.5999999   2.          8.89999962  3.77449585]\n",
            "No ? found\n"
          ]
        },
        {
          "output_type": "stream",
          "name": "stderr",
          "text": [
            "/usr/local/lib/python3.7/dist-packages/ipykernel_launcher.py:4: FutureWarning: elementwise comparison failed; returning scalar instead, but in the future will perform elementwise comparison\n",
            "  after removing the cwd from sys.path.\n"
          ]
        }
      ]
    },
    {
      "cell_type": "code",
      "source": [
        "#Print unique values and check column for ?\n",
        "print(temp)\n",
        "if '?' in temp:\n",
        "  print (\"? found!\")\n",
        "else:\n",
        "  print(\"No ? found\")"
      ],
      "metadata": {
        "colab": {
          "base_uri": "https://localhost:8080/"
        },
        "id": "enMYmWJL4ePb",
        "outputId": "8b6dcb09-a87c-4ce3-9b93-7a5c82b66d85"
      },
      "execution_count": 70,
      "outputs": [
        {
          "output_type": "stream",
          "name": "stdout",
          "text": [
            "[ 3.9000001   3.20000005  4.30000019  1.79999995  3.0999999  10.60000038\n",
            "  5.30000019  3.5999999   2.          8.89999962  3.77449585]\n",
            "No ? found\n"
          ]
        },
        {
          "output_type": "stream",
          "name": "stderr",
          "text": [
            "/usr/local/lib/python3.7/dist-packages/ipykernel_launcher.py:3: FutureWarning: elementwise comparison failed; returning scalar instead, but in the future will perform elementwise comparison\n",
            "  This is separate from the ipykernel package so we can avoid doing imports until\n"
          ]
        }
      ]
    },
    {
      "cell_type": "code",
      "source": [
        "#Print unique values and check column for ?\n",
        "temp =  df['black'].unique()\n",
        "print(temp)\n",
        "if '?' in temp:\n",
        "  print (\"? found!\")\n",
        "else:\n",
        "  print(\"No ? found\")"
      ],
      "metadata": {
        "colab": {
          "base_uri": "https://localhost:8080/"
        },
        "id": "4HOqrkyF4Z5q",
        "outputId": "ed6d4b19-bb8a-4995-9a91-254aeebf9c0c"
      },
      "execution_count": 71,
      "outputs": [
        {
          "output_type": "stream",
          "name": "stdout",
          "text": [
            "['no' 'yes']\n",
            "No ? found\n"
          ]
        }
      ]
    },
    {
      "cell_type": "code",
      "source": [
        "#Print unique values and check column for ?\n",
        "temp =  df['deny'].unique()\n",
        "print(temp)\n",
        "if '?' in temp:\n",
        "  print (\"? found!\")\n",
        "else:\n",
        "  print(\"No ? found\")"
      ],
      "metadata": {
        "colab": {
          "base_uri": "https://localhost:8080/"
        },
        "id": "WRUCeeGe0RVo",
        "outputId": "77879815-28f2-4777-ca7e-8f323ee385ab"
      },
      "execution_count": 72,
      "outputs": [
        {
          "output_type": "stream",
          "name": "stdout",
          "text": [
            "['no' 'yes']\n",
            "No ? found\n"
          ]
        }
      ]
    },
    {
      "cell_type": "markdown",
      "source": [
        "## Part 4: Exploratory Data Analysis (EDA) / Prepped Data Review ##\n",
        "#### Step 1: Run descriptive statistics for each attribute ####\n",
        "deny is the only response variable while pbcr, self employed, dmi, single and black are all categorical attributes and will be excluded from this section since they are not numerical categories. comdominium does have numerical statistics but it will also be excluded from this section because its unique values are 0 and 1. This means these are actually boolean values and should not be viewed as regular numbers. The numerical attributes are comprised of dir, hir, lvr, ccs, mcs and uria. Each of these are filled with floating point number values."
      ],
      "metadata": {
        "id": "wnHVEF9a9_1A"
      }
    },
    {
      "cell_type": "markdown",
      "source": [
        "### **Discussion of Results:**\n",
        "* dir: The mean of the dir attribute is 0.330814 while median is 0.33. Since the median is lesser than the mean, this tells us that the shape of the distribution is skewed to the right. In addition, it looks like the range of the values for this attribute is wide since minimum value is at 0.0 while max is at 3.0. Looking at the standard deviation, the observations seem to be not as far from its mean.\n",
        "\n",
        "* hir: The mean of the hir attribute is 0.255346 while median is 0.26. Since the median is greater than the mean, this tells us that the shape of the distribution is skewed to the left. In addition, it looks like the range of the values for this attribute is wide since minimum value is at 0.0 while max is at 3.0. Looking at the standard deviation, the observations seem to be not as far from its mean.\n",
        "\n",
        "* lvr: The mean of the lvr attribute is 0.737760 while median is 0.779412. Since the median is greater than the mean, this tells us that the shape of the distribution is skewed to the left. In addition, it looks like the range of the values for this attribute is wide since minimum value is at 0.02 while max is at 1.95. Looking at the standard deviation, the observations seem to be not as far from its mean.\n",
        "\n",
        "* ccs: The mean of the ccs attribute is 2.116387 while median is 1. Since the median is lesser than the mean, this tells us that the shape of the distribution is skewed to the right. In addition, it looks like the range of the values for this attribute is wide since minimum value is at 1 while max is at 6. Looking at the standard deviation, the observations seem to be not as far from its mean.\n",
        "\n",
        "* uria: The mean of the mcs attribute is 3.774496 while median is 3.2. Since the median is lesser than the mean, this tells us that the shape of the distribution is skewed to the left. In addition, it looks like the range of the values for this attribute is wide since minimum value is at 1.8 while max is at 10.6. Looking at the standard deviation, the observations seem to be not as far from its mean."
      ],
      "metadata": {
        "id": "-WIasx0XHW4p"
      }
    },
    {
      "cell_type": "code",
      "source": [
        "df.describe() #displays descriptive stats for all numeric variables"
      ],
      "metadata": {
        "colab": {
          "base_uri": "https://localhost:8080/",
          "height": 300
        },
        "id": "RU3hayVX_6b0",
        "outputId": "6ba59099-3d46-4608-a15f-3f684adaa69e"
      },
      "execution_count": 73,
      "outputs": [
        {
          "output_type": "execute_result",
          "data": {
            "text/plain": [
              "               dir          hir          lvr          ccs          mcs  \\\n",
              "count  2381.000000  2381.000000  2381.000000  2381.000000  2381.000000   \n",
              "mean      0.330814     0.255346     0.737760     2.116387     1.721008   \n",
              "std       0.107235     0.096635     0.178715     1.666370     0.537169   \n",
              "min       0.000000     0.000000     0.020000     1.000000     1.000000   \n",
              "25%       0.280000     0.214000     0.652850     1.000000     1.000000   \n",
              "50%       0.330000     0.260000     0.779412     1.000000     2.000000   \n",
              "75%       0.370000     0.298800     0.868421     2.000000     2.000000   \n",
              "max       3.000000     3.000000     1.950000     6.000000     4.000000   \n",
              "\n",
              "              uria  comdominiom  \n",
              "count  2381.000000  2381.000000  \n",
              "mean      3.774496     0.288114  \n",
              "std       2.026636     0.452980  \n",
              "min       1.800000     0.000000  \n",
              "25%       3.100000     0.000000  \n",
              "50%       3.200000     0.000000  \n",
              "75%       3.900000     1.000000  \n",
              "max      10.600000     1.000000  "
            ],
            "text/html": [
              "\n",
              "  <div id=\"df-9f445074-0926-46ca-a8b9-1206d2865483\">\n",
              "    <div class=\"colab-df-container\">\n",
              "      <div>\n",
              "<style scoped>\n",
              "    .dataframe tbody tr th:only-of-type {\n",
              "        vertical-align: middle;\n",
              "    }\n",
              "\n",
              "    .dataframe tbody tr th {\n",
              "        vertical-align: top;\n",
              "    }\n",
              "\n",
              "    .dataframe thead th {\n",
              "        text-align: right;\n",
              "    }\n",
              "</style>\n",
              "<table border=\"1\" class=\"dataframe\">\n",
              "  <thead>\n",
              "    <tr style=\"text-align: right;\">\n",
              "      <th></th>\n",
              "      <th>dir</th>\n",
              "      <th>hir</th>\n",
              "      <th>lvr</th>\n",
              "      <th>ccs</th>\n",
              "      <th>mcs</th>\n",
              "      <th>uria</th>\n",
              "      <th>comdominiom</th>\n",
              "    </tr>\n",
              "  </thead>\n",
              "  <tbody>\n",
              "    <tr>\n",
              "      <th>count</th>\n",
              "      <td>2381.000000</td>\n",
              "      <td>2381.000000</td>\n",
              "      <td>2381.000000</td>\n",
              "      <td>2381.000000</td>\n",
              "      <td>2381.000000</td>\n",
              "      <td>2381.000000</td>\n",
              "      <td>2381.000000</td>\n",
              "    </tr>\n",
              "    <tr>\n",
              "      <th>mean</th>\n",
              "      <td>0.330814</td>\n",
              "      <td>0.255346</td>\n",
              "      <td>0.737760</td>\n",
              "      <td>2.116387</td>\n",
              "      <td>1.721008</td>\n",
              "      <td>3.774496</td>\n",
              "      <td>0.288114</td>\n",
              "    </tr>\n",
              "    <tr>\n",
              "      <th>std</th>\n",
              "      <td>0.107235</td>\n",
              "      <td>0.096635</td>\n",
              "      <td>0.178715</td>\n",
              "      <td>1.666370</td>\n",
              "      <td>0.537169</td>\n",
              "      <td>2.026636</td>\n",
              "      <td>0.452980</td>\n",
              "    </tr>\n",
              "    <tr>\n",
              "      <th>min</th>\n",
              "      <td>0.000000</td>\n",
              "      <td>0.000000</td>\n",
              "      <td>0.020000</td>\n",
              "      <td>1.000000</td>\n",
              "      <td>1.000000</td>\n",
              "      <td>1.800000</td>\n",
              "      <td>0.000000</td>\n",
              "    </tr>\n",
              "    <tr>\n",
              "      <th>25%</th>\n",
              "      <td>0.280000</td>\n",
              "      <td>0.214000</td>\n",
              "      <td>0.652850</td>\n",
              "      <td>1.000000</td>\n",
              "      <td>1.000000</td>\n",
              "      <td>3.100000</td>\n",
              "      <td>0.000000</td>\n",
              "    </tr>\n",
              "    <tr>\n",
              "      <th>50%</th>\n",
              "      <td>0.330000</td>\n",
              "      <td>0.260000</td>\n",
              "      <td>0.779412</td>\n",
              "      <td>1.000000</td>\n",
              "      <td>2.000000</td>\n",
              "      <td>3.200000</td>\n",
              "      <td>0.000000</td>\n",
              "    </tr>\n",
              "    <tr>\n",
              "      <th>75%</th>\n",
              "      <td>0.370000</td>\n",
              "      <td>0.298800</td>\n",
              "      <td>0.868421</td>\n",
              "      <td>2.000000</td>\n",
              "      <td>2.000000</td>\n",
              "      <td>3.900000</td>\n",
              "      <td>1.000000</td>\n",
              "    </tr>\n",
              "    <tr>\n",
              "      <th>max</th>\n",
              "      <td>3.000000</td>\n",
              "      <td>3.000000</td>\n",
              "      <td>1.950000</td>\n",
              "      <td>6.000000</td>\n",
              "      <td>4.000000</td>\n",
              "      <td>10.600000</td>\n",
              "      <td>1.000000</td>\n",
              "    </tr>\n",
              "  </tbody>\n",
              "</table>\n",
              "</div>\n",
              "      <button class=\"colab-df-convert\" onclick=\"convertToInteractive('df-9f445074-0926-46ca-a8b9-1206d2865483')\"\n",
              "              title=\"Convert this dataframe to an interactive table.\"\n",
              "              style=\"display:none;\">\n",
              "        \n",
              "  <svg xmlns=\"http://www.w3.org/2000/svg\" height=\"24px\"viewBox=\"0 0 24 24\"\n",
              "       width=\"24px\">\n",
              "    <path d=\"M0 0h24v24H0V0z\" fill=\"none\"/>\n",
              "    <path d=\"M18.56 5.44l.94 2.06.94-2.06 2.06-.94-2.06-.94-.94-2.06-.94 2.06-2.06.94zm-11 1L8.5 8.5l.94-2.06 2.06-.94-2.06-.94L8.5 2.5l-.94 2.06-2.06.94zm10 10l.94 2.06.94-2.06 2.06-.94-2.06-.94-.94-2.06-.94 2.06-2.06.94z\"/><path d=\"M17.41 7.96l-1.37-1.37c-.4-.4-.92-.59-1.43-.59-.52 0-1.04.2-1.43.59L10.3 9.45l-7.72 7.72c-.78.78-.78 2.05 0 2.83L4 21.41c.39.39.9.59 1.41.59.51 0 1.02-.2 1.41-.59l7.78-7.78 2.81-2.81c.8-.78.8-2.07 0-2.86zM5.41 20L4 18.59l7.72-7.72 1.47 1.35L5.41 20z\"/>\n",
              "  </svg>\n",
              "      </button>\n",
              "      \n",
              "  <style>\n",
              "    .colab-df-container {\n",
              "      display:flex;\n",
              "      flex-wrap:wrap;\n",
              "      gap: 12px;\n",
              "    }\n",
              "\n",
              "    .colab-df-convert {\n",
              "      background-color: #E8F0FE;\n",
              "      border: none;\n",
              "      border-radius: 50%;\n",
              "      cursor: pointer;\n",
              "      display: none;\n",
              "      fill: #1967D2;\n",
              "      height: 32px;\n",
              "      padding: 0 0 0 0;\n",
              "      width: 32px;\n",
              "    }\n",
              "\n",
              "    .colab-df-convert:hover {\n",
              "      background-color: #E2EBFA;\n",
              "      box-shadow: 0px 1px 2px rgba(60, 64, 67, 0.3), 0px 1px 3px 1px rgba(60, 64, 67, 0.15);\n",
              "      fill: #174EA6;\n",
              "    }\n",
              "\n",
              "    [theme=dark] .colab-df-convert {\n",
              "      background-color: #3B4455;\n",
              "      fill: #D2E3FC;\n",
              "    }\n",
              "\n",
              "    [theme=dark] .colab-df-convert:hover {\n",
              "      background-color: #434B5C;\n",
              "      box-shadow: 0px 1px 3px 1px rgba(0, 0, 0, 0.15);\n",
              "      filter: drop-shadow(0px 1px 2px rgba(0, 0, 0, 0.3));\n",
              "      fill: #FFFFFF;\n",
              "    }\n",
              "  </style>\n",
              "\n",
              "      <script>\n",
              "        const buttonEl =\n",
              "          document.querySelector('#df-9f445074-0926-46ca-a8b9-1206d2865483 button.colab-df-convert');\n",
              "        buttonEl.style.display =\n",
              "          google.colab.kernel.accessAllowed ? 'block' : 'none';\n",
              "\n",
              "        async function convertToInteractive(key) {\n",
              "          const element = document.querySelector('#df-9f445074-0926-46ca-a8b9-1206d2865483');\n",
              "          const dataTable =\n",
              "            await google.colab.kernel.invokeFunction('convertToInteractive',\n",
              "                                                     [key], {});\n",
              "          if (!dataTable) return;\n",
              "\n",
              "          const docLinkHtml = 'Like what you see? Visit the ' +\n",
              "            '<a target=\"_blank\" href=https://colab.research.google.com/notebooks/data_table.ipynb>data table notebook</a>'\n",
              "            + ' to learn more about interactive tables.';\n",
              "          element.innerHTML = '';\n",
              "          dataTable['output_type'] = 'display_data';\n",
              "          await google.colab.output.renderOutput(dataTable, element);\n",
              "          const docLink = document.createElement('div');\n",
              "          docLink.innerHTML = docLinkHtml;\n",
              "          element.appendChild(docLink);\n",
              "        }\n",
              "      </script>\n",
              "    </div>\n",
              "  </div>\n",
              "  "
            ]
          },
          "metadata": {},
          "execution_count": 73
        }
      ]
    },
    {
      "cell_type": "code",
      "source": [
        "print(df['deny'].value_counts())  #prints count for each sex category\n",
        "print(df['deny'].value_counts()/len(df)) #prints proportion of each sex category"
      ],
      "metadata": {
        "colab": {
          "base_uri": "https://localhost:8080/"
        },
        "id": "m-BJdvYGCW9C",
        "outputId": "9cb9a978-bea2-4a2b-86b1-cb2cfef6e99e"
      },
      "execution_count": 74,
      "outputs": [
        {
          "output_type": "stream",
          "name": "stdout",
          "text": [
            "no     2096\n",
            "yes     285\n",
            "Name: deny, dtype: int64\n",
            "no     0.880302\n",
            "yes    0.119698\n",
            "Name: deny, dtype: float64\n"
          ]
        }
      ]
    },
    {
      "cell_type": "markdown",
      "source": [
        "**Discussion of Result:** This shows that for this dataset, around 12% of applicants are denied loans while around 88% of applicants are granted loans\n",
        "\n",
        "**Step 2: Provide appropriate graphical analysis for each attribute using both Matplotlib and Seaborn**"
      ],
      "metadata": {
        "id": "I-HDtxZPqo3T"
      }
    },
    {
      "cell_type": "code",
      "source": [
        "plt.title('Graph 1: Scatter Plot of dir Values')\n",
        "plt.boxplot(df['dir'])"
      ],
      "metadata": {
        "colab": {
          "base_uri": "https://localhost:8080/",
          "height": 420
        },
        "id": "syq8nEOO0MOs",
        "outputId": "0433244b-873f-4ec7-db13-9634cd9f0d21"
      },
      "execution_count": 89,
      "outputs": [
        {
          "output_type": "execute_result",
          "data": {
            "text/plain": [
              "{'boxes': [<matplotlib.lines.Line2D at 0x7f5213374b50>],\n",
              " 'caps': [<matplotlib.lines.Line2D at 0x7f521337cb10>,\n",
              "  <matplotlib.lines.Line2D at 0x7f5213382090>],\n",
              " 'fliers': [<matplotlib.lines.Line2D at 0x7f5213382b50>],\n",
              " 'means': [],\n",
              " 'medians': [<matplotlib.lines.Line2D at 0x7f5213382610>],\n",
              " 'whiskers': [<matplotlib.lines.Line2D at 0x7f521337c090>,\n",
              "  <matplotlib.lines.Line2D at 0x7f521337c5d0>]}"
            ]
          },
          "metadata": {},
          "execution_count": 89
        },
        {
          "output_type": "display_data",
          "data": {
            "text/plain": [
              "<Figure size 432x288 with 1 Axes>"
            ],
            "image/png": "[encoded data removed]"
          },
          "metadata": {
            "needs_background": "light"
          }
        }
      ]
    },
    {
      "cell_type": "markdown",
      "source": [
        "**Discussion of Result:**\n",
        "This boxplot shows us that the median of the dir values is about .3. On top of that, the scatterplot reveals there are a great deal of outliers distributed away from the mean at both ends of the graph."
      ],
      "metadata": {
        "id": "IiTjEWdIyQM1"
      }
    },
    {
      "cell_type": "code",
      "source": [
        "plt.title('Graph 2: Scatter Plot of hir Values')\n",
        "plt.boxplot(df['hir'])"
      ],
      "metadata": {
        "colab": {
          "base_uri": "https://localhost:8080/",
          "height": 420
        },
        "id": "OQjs9TWB0yza",
        "outputId": "4ffdb251-39de-4cb8-872e-941a7bf3d88d"
      },
      "execution_count": 90,
      "outputs": [
        {
          "output_type": "execute_result",
          "data": {
            "text/plain": [
              "{'boxes': [<matplotlib.lines.Line2D at 0x7f52132e4c50>],\n",
              " 'caps': [<matplotlib.lines.Line2D at 0x7f52132ebc10>,\n",
              "  <matplotlib.lines.Line2D at 0x7f52132f2190>],\n",
              " 'fliers': [<matplotlib.lines.Line2D at 0x7f52132f2c50>],\n",
              " 'means': [],\n",
              " 'medians': [<matplotlib.lines.Line2D at 0x7f52132f2710>],\n",
              " 'whiskers': [<matplotlib.lines.Line2D at 0x7f52132eb190>,\n",
              "  <matplotlib.lines.Line2D at 0x7f52132eb6d0>]}"
            ]
          },
          "metadata": {},
          "execution_count": 90
        },
        {
          "output_type": "display_data",
          "data": {
            "text/plain": [
              "<Figure size 432x288 with 1 Axes>"
            ],
            "image/png": "[encoded data removed]"
          },
          "metadata": {
            "needs_background": "light"
          }
        }
      ]
    },
    {
      "cell_type": "markdown",
      "source": [
        "**Discussion of Result:**\n",
        "This boxplot shows us that the median of the dir values is about .25. On top of that, the scatterplot reveals there are a great deal of outliers distributed near the higher end of the graph with some concentrated near the min."
      ],
      "metadata": {
        "id": "sPNS6Bp607Ha"
      }
    },
    {
      "cell_type": "code",
      "source": [
        "plt.title('Graph 3: Scatter Plot of lvr Values')\n",
        "plt.boxplot(df['lvr'])"
      ],
      "metadata": {
        "colab": {
          "base_uri": "https://localhost:8080/",
          "height": 420
        },
        "id": "wCzNqBg726u-",
        "outputId": "7c5fcf2d-051a-4940-c0eb-4a34fe73e1b2"
      },
      "execution_count": 91,
      "outputs": [
        {
          "output_type": "execute_result",
          "data": {
            "text/plain": [
              "{'boxes': [<matplotlib.lines.Line2D at 0x7f5213255d10>],\n",
              " 'caps': [<matplotlib.lines.Line2D at 0x7f521325ad10>,\n",
              "  <matplotlib.lines.Line2D at 0x7f5213261290>],\n",
              " 'fliers': [<matplotlib.lines.Line2D at 0x7f5213261d50>],\n",
              " 'means': [],\n",
              " 'medians': [<matplotlib.lines.Line2D at 0x7f5213261810>],\n",
              " 'whiskers': [<matplotlib.lines.Line2D at 0x7f521325a290>,\n",
              "  <matplotlib.lines.Line2D at 0x7f521325a7d0>]}"
            ]
          },
          "metadata": {},
          "execution_count": 91
        },
        {
          "output_type": "display_data",
          "data": {
            "text/plain": [
              "<Figure size 432x288 with 1 Axes>"
            ],
            "image/png": "[encoded data removed]"
          },
          "metadata": {
            "needs_background": "light"
          }
        }
      ]
    },
    {
      "cell_type": "markdown",
      "source": [
        "**Discussion of Result:**\n",
        "This boxplot shows us that the median of the lvr values is about .8. On top of that, the scatterplot reveals there are a great deal of outliers distributed near the min with some concentrated near the higher end of the graph."
      ],
      "metadata": {
        "id": "82Ephq3q3oTh"
      }
    },
    {
      "cell_type": "code",
      "source": [
        "plt.title('Graph 4: Scatter Plot of ccs Values')\n",
        "plt.boxplot(df['ccs'])"
      ],
      "metadata": {
        "colab": {
          "base_uri": "https://localhost:8080/",
          "height": 420
        },
        "id": "FnNJcO_D4ead",
        "outputId": "0b356b8f-8817-4172-ca15-e4c76620df5a"
      },
      "execution_count": 92,
      "outputs": [
        {
          "output_type": "execute_result",
          "data": {
            "text/plain": [
              "{'boxes': [<matplotlib.lines.Line2D at 0x7f52131d0910>],\n",
              " 'caps': [<matplotlib.lines.Line2D at 0x7f52131d5910>,\n",
              "  <matplotlib.lines.Line2D at 0x7f52131d5e50>],\n",
              " 'fliers': [<matplotlib.lines.Line2D at 0x7f52131dd950>],\n",
              " 'means': [],\n",
              " 'medians': [<matplotlib.lines.Line2D at 0x7f52131dd410>],\n",
              " 'whiskers': [<matplotlib.lines.Line2D at 0x7f52131d0e50>,\n",
              "  <matplotlib.lines.Line2D at 0x7f52131d53d0>]}"
            ]
          },
          "metadata": {},
          "execution_count": 92
        },
        {
          "output_type": "display_data",
          "data": {
            "text/plain": [
              "<Figure size 432x288 with 1 Axes>"
            ],
            "image/png": "[encoded data removed]"
          },
          "metadata": {
            "needs_background": "light"
          }
        }
      ]
    },
    {
      "cell_type": "markdown",
      "source": [
        "**Discussion of Result:**\n",
        "This boxplot shows us that the median of the ccs values is about 1. On top of that, the scatterplot reveals there are a few outliers at the higher end of the graph."
      ],
      "metadata": {
        "id": "GQv18M874rxt"
      }
    },
    {
      "cell_type": "code",
      "source": [
        "plt.title('Graph 5: Scatter Plot of mcs Values')\n",
        "plt.boxplot(df['mcs'])"
      ],
      "metadata": {
        "colab": {
          "base_uri": "https://localhost:8080/",
          "height": 420
        },
        "id": "8VA_5zfM49ME",
        "outputId": "532276f7-cc04-49c2-ece8-873e63e9777c"
      },
      "execution_count": 93,
      "outputs": [
        {
          "output_type": "execute_result",
          "data": {
            "text/plain": [
              "{'boxes': [<matplotlib.lines.Line2D at 0x7f52131be550>],\n",
              " 'caps': [<matplotlib.lines.Line2D at 0x7f52131c3550>,\n",
              "  <matplotlib.lines.Line2D at 0x7f52131c3a90>],\n",
              " 'fliers': [<matplotlib.lines.Line2D at 0x7f521314c590>],\n",
              " 'means': [],\n",
              " 'medians': [<matplotlib.lines.Line2D at 0x7f521314c050>],\n",
              " 'whiskers': [<matplotlib.lines.Line2D at 0x7f52131bea90>,\n",
              "  <matplotlib.lines.Line2D at 0x7f52131befd0>]}"
            ]
          },
          "metadata": {},
          "execution_count": 93
        },
        {
          "output_type": "display_data",
          "data": {
            "text/plain": [
              "<Figure size 432x288 with 1 Axes>"
            ],
            "image/png": "[encoded data removed]"
          },
          "metadata": {
            "needs_background": "light"
          }
        }
      ]
    },
    {
      "cell_type": "markdown",
      "source": [
        "Discussion of Result: This boxplot shows us that the median of the ccs values is about 2. On top of that, the scatterplot reveals there is one outlier near the max."
      ],
      "metadata": {
        "id": "9jtjdMxj5ror"
      }
    },
    {
      "cell_type": "code",
      "source": [
        "bplt = df['pbcr'].value_counts().plot.bar(title = \"Graph 6: Frequency of pbcr Values\")"
      ],
      "metadata": {
        "colab": {
          "base_uri": "https://localhost:8080/",
          "height": 289
        },
        "id": "ASZjXRkk52Mq",
        "outputId": "67dbac05-a8be-41fd-9080-321ee318f7cd"
      },
      "execution_count": 94,
      "outputs": [
        {
          "output_type": "display_data",
          "data": {
            "text/plain": [
              "<Figure size 432x288 with 1 Axes>"
            ],
            "image/png": "[encoded data removed]"
          },
          "metadata": {
            "needs_background": "light"
          }
        }
      ]
    },
    {
      "cell_type": "markdown",
      "source": [
        "Discussion of Result: This bar graph shows us that the overwhelming majority of applicants were not denied a loan."
      ],
      "metadata": {
        "id": "34Nf8u9i6ZJy"
      }
    },
    {
      "cell_type": "code",
      "source": [
        "bplt = df['dmi'].value_counts().plot.bar(title = \"Graph 7: Frequency of dmi Values\")"
      ],
      "metadata": {
        "colab": {
          "base_uri": "https://localhost:8080/",
          "height": 289
        },
        "id": "hZ5UELgw6h0Z",
        "outputId": "1fdc698e-a939-4c92-882d-bde3c01d27dd"
      },
      "execution_count": 95,
      "outputs": [
        {
          "output_type": "display_data",
          "data": {
            "text/plain": [
              "<Figure size 432x288 with 1 Axes>"
            ],
            "image/png": "[encoded data removed]"
          },
          "metadata": {
            "needs_background": "light"
          }
        }
      ]
    },
    {
      "cell_type": "markdown",
      "source": [
        "Discussion of Result: This bar graph shows us that the overwhelming majority of applicants were not denied mortgage insurance."
      ],
      "metadata": {
        "id": "VSPfsMLe6tjp"
      }
    },
    {
      "cell_type": "code",
      "source": [
        "bplt = df['self'].value_counts().plot.bar(title = \"Graph 8: Frequency of self Values\")"
      ],
      "metadata": {
        "colab": {
          "base_uri": "https://localhost:8080/",
          "height": 289
        },
        "id": "Efp_E563OSQW",
        "outputId": "9dc43539-67c1-4a91-fc2e-caf0eedd8e53"
      },
      "execution_count": 96,
      "outputs": [
        {
          "output_type": "display_data",
          "data": {
            "text/plain": [
              "<Figure size 432x288 with 1 Axes>"
            ],
            "image/png": "[encoded data removed]"
          },
          "metadata": {
            "needs_background": "light"
          }
        }
      ]
    },
    {
      "cell_type": "markdown",
      "source": [
        "Discussion of Result: This bar graph shows us that the overwhelming majority of applicants were not self employed."
      ],
      "metadata": {
        "id": "5OsADHIWOa-f"
      }
    },
    {
      "cell_type": "code",
      "source": [
        "bplt = df['single'].value_counts().plot.bar(title = \"Graph 9: Frequency of single Values\")"
      ],
      "metadata": {
        "colab": {
          "base_uri": "https://localhost:8080/",
          "height": 289
        },
        "id": "mfWgqQDyOhxx",
        "outputId": "f82f8c93-9bcc-42ed-db5b-84fe1e58373b"
      },
      "execution_count": 97,
      "outputs": [
        {
          "output_type": "display_data",
          "data": {
            "text/plain": [
              "<Figure size 432x288 with 1 Axes>"
            ],
            "image/png": "[encoded data removed]"
          },
          "metadata": {
            "needs_background": "light"
          }
        }
      ]
    },
    {
      "cell_type": "markdown",
      "source": [
        "Discussion of Result: This bar graph shows us that the majority of applicants were single."
      ],
      "metadata": {
        "id": "_tCsL8dgOhBm"
      }
    },
    {
      "cell_type": "code",
      "source": [
        "plt.title('Graph 10: Scatter Plot of uria Values')\n",
        "plt.boxplot(df['uria'])"
      ],
      "metadata": {
        "colab": {
          "base_uri": "https://localhost:8080/",
          "height": 420
        },
        "id": "kfen-VwOOzy3",
        "outputId": "bf7a4940-ba9e-4d1d-de88-22c5654f360c"
      },
      "execution_count": 99,
      "outputs": [
        {
          "output_type": "execute_result",
          "data": {
            "text/plain": [
              "{'boxes': [<matplotlib.lines.Line2D at 0x7f5212ea37d0>],\n",
              " 'caps': [<matplotlib.lines.Line2D at 0x7f5212ea8790>,\n",
              "  <matplotlib.lines.Line2D at 0x7f5212ea8cd0>],\n",
              " 'fliers': [<matplotlib.lines.Line2D at 0x7f5212eb17d0>],\n",
              " 'means': [],\n",
              " 'medians': [<matplotlib.lines.Line2D at 0x7f5212eb1290>],\n",
              " 'whiskers': [<matplotlib.lines.Line2D at 0x7f5212ea3cd0>,\n",
              "  <matplotlib.lines.Line2D at 0x7f5212ea8250>]}"
            ]
          },
          "metadata": {},
          "execution_count": 99
        },
        {
          "output_type": "display_data",
          "data": {
            "text/plain": [
              "<Figure size 432x288 with 1 Axes>"
            ],
            "image/png": "[encoded data removed]"
          },
          "metadata": {
            "needs_background": "light"
          }
        }
      ]
    },
    {
      "cell_type": "markdown",
      "source": [
        "Discussion of Result: This boxplot shows us that the median of the uria values is about 3. On top of that, the scatterplot reveals there are a few outliers at the top end of the graph and a single outlier at the low end."
      ],
      "metadata": {
        "id": "jSzyoWosO-O9"
      }
    },
    {
      "cell_type": "code",
      "source": [
        "bplt = df['comdominiom'].value_counts().plot.bar(title = \"Graph 11: Frequency of comdominium Values\")"
      ],
      "metadata": {
        "colab": {
          "base_uri": "https://localhost:8080/",
          "height": 278
        },
        "id": "h6tVXGx7PLqV",
        "outputId": "f347025e-c64a-437f-8d2c-223ad90dbab5"
      },
      "execution_count": 106,
      "outputs": [
        {
          "output_type": "display_data",
          "data": {
            "text/plain": [
              "<Figure size 432x288 with 1 Axes>"
            ],
            "image/png": "[encoded data removed]"
          },
          "metadata": {
            "needs_background": "light"
          }
        }
      ]
    },
    {
      "cell_type": "markdown",
      "source": [
        "Discussion of Result: This bar graph shows us that the majority of applicants did not own a comdominium."
      ],
      "metadata": {
        "id": "drffZVpzPjpO"
      }
    },
    {
      "cell_type": "code",
      "source": [
        "bplt = df['black'].value_counts().plot.bar(title = \"Graph 12: Frequency of black Values\")"
      ],
      "metadata": {
        "colab": {
          "base_uri": "https://localhost:8080/",
          "height": 289
        },
        "id": "vCDm93vHPsLn",
        "outputId": "42c6f10b-3ff9-4dfd-b887-398e86f62e68"
      },
      "execution_count": 105,
      "outputs": [
        {
          "output_type": "display_data",
          "data": {
            "text/plain": [
              "<Figure size 432x288 with 1 Axes>"
            ],
            "image/png": "[encoded data removed]"
          },
          "metadata": {
            "needs_background": "light"
          }
        }
      ]
    },
    {
      "cell_type": "markdown",
      "source": [
        "Discussion of Result: This bar graph shows us that the vast majority of applicants were not black."
      ],
      "metadata": {
        "id": "KjcKVr4yPxZ8"
      }
    },
    {
      "cell_type": "code",
      "source": [
        "bplt = df['deny'].value_counts().plot.bar(title = \"Graph 13: Frequency of deny Values\")"
      ],
      "metadata": {
        "colab": {
          "base_uri": "https://localhost:8080/",
          "height": 289
        },
        "id": "dzX6y-NJP3zc",
        "outputId": "7f9b52a8-d2f2-45f0-f0b5-6da73a50b12d"
      },
      "execution_count": 107,
      "outputs": [
        {
          "output_type": "display_data",
          "data": {
            "text/plain": [
              "<Figure size 432x288 with 1 Axes>"
            ],
            "image/png": "[encoded data removed]"
          },
          "metadata": {
            "needs_background": "light"
          }
        }
      ]
    },
    {
      "cell_type": "markdown",
      "source": [
        "Discussion of Result: This bar graph shows us that the vast majority of applicants were not denied for a loan."
      ],
      "metadata": {
        "id": "jytuspdKRpJI"
      }
    },
    {
      "cell_type": "code",
      "source": [
        "#Display numerical representation of correlation between numerical attributes\n",
        "df.corr()"
      ],
      "metadata": {
        "colab": {
          "base_uri": "https://localhost:8080/",
          "height": 269
        },
        "id": "ewZfcweBQMwb",
        "outputId": "99042408-747e-4534-fdc1-090f15578d12"
      },
      "execution_count": 108,
      "outputs": [
        {
          "output_type": "execute_result",
          "data": {
            "text/plain": [
              "                  dir       hir       lvr       ccs       mcs      uria  \\\n",
              "dir          1.000000  0.781473  0.150653  0.065234  0.051318  0.046450   \n",
              "hir          0.781473  1.000000  0.126273  0.005277  0.104721  0.036992   \n",
              "lvr          0.150653  0.126273  1.000000  0.111939  0.186326 -0.034643   \n",
              "ccs          0.065234  0.005277  0.111939  1.000000  0.152686 -0.006424   \n",
              "mcs          0.051318  0.104721  0.186326  0.152686  1.000000  0.037077   \n",
              "uria         0.046450  0.036992 -0.034643 -0.006424  0.037077  1.000000   \n",
              "comdominiom -0.012451 -0.046039  0.055001  0.050742  0.090462 -0.100647   \n",
              "\n",
              "             comdominiom  \n",
              "dir            -0.012451  \n",
              "hir            -0.046039  \n",
              "lvr             0.055001  \n",
              "ccs             0.050742  \n",
              "mcs             0.090462  \n",
              "uria           -0.100647  \n",
              "comdominiom     1.000000  "
            ],
            "text/html": [
              "\n",
              "  <div id=\"df-bfedf2c0-c608-4e78-951d-f056b9feb97d\">\n",
              "    <div class=\"colab-df-container\">\n",
              "      <div>\n",
              "<style scoped>\n",
              "    .dataframe tbody tr th:only-of-type {\n",
              "        vertical-align: middle;\n",
              "    }\n",
              "\n",
              "    .dataframe tbody tr th {\n",
              "        vertical-align: top;\n",
              "    }\n",
              "\n",
              "    .dataframe thead th {\n",
              "        text-align: right;\n",
              "    }\n",
              "</style>\n",
              "<table border=\"1\" class=\"dataframe\">\n",
              "  <thead>\n",
              "    <tr style=\"text-align: right;\">\n",
              "      <th></th>\n",
              "      <th>dir</th>\n",
              "      <th>hir</th>\n",
              "      <th>lvr</th>\n",
              "      <th>ccs</th>\n",
              "      <th>mcs</th>\n",
              "      <th>uria</th>\n",
              "      <th>comdominiom</th>\n",
              "    </tr>\n",
              "  </thead>\n",
              "  <tbody>\n",
              "    <tr>\n",
              "      <th>dir</th>\n",
              "      <td>1.000000</td>\n",
              "      <td>0.781473</td>\n",
              "      <td>0.150653</td>\n",
              "      <td>0.065234</td>\n",
              "      <td>0.051318</td>\n",
              "      <td>0.046450</td>\n",
              "      <td>-0.012451</td>\n",
              "    </tr>\n",
              "    <tr>\n",
              "      <th>hir</th>\n",
              "      <td>0.781473</td>\n",
              "      <td>1.000000</td>\n",
              "      <td>0.126273</td>\n",
              "      <td>0.005277</td>\n",
              "      <td>0.104721</td>\n",
              "      <td>0.036992</td>\n",
              "      <td>-0.046039</td>\n",
              "    </tr>\n",
              "    <tr>\n",
              "      <th>lvr</th>\n",
              "      <td>0.150653</td>\n",
              "      <td>0.126273</td>\n",
              "      <td>1.000000</td>\n",
              "      <td>0.111939</td>\n",
              "      <td>0.186326</td>\n",
              "      <td>-0.034643</td>\n",
              "      <td>0.055001</td>\n",
              "    </tr>\n",
              "    <tr>\n",
              "      <th>ccs</th>\n",
              "      <td>0.065234</td>\n",
              "      <td>0.005277</td>\n",
              "      <td>0.111939</td>\n",
              "      <td>1.000000</td>\n",
              "      <td>0.152686</td>\n",
              "      <td>-0.006424</td>\n",
              "      <td>0.050742</td>\n",
              "    </tr>\n",
              "    <tr>\n",
              "      <th>mcs</th>\n",
              "      <td>0.051318</td>\n",
              "      <td>0.104721</td>\n",
              "      <td>0.186326</td>\n",
              "      <td>0.152686</td>\n",
              "      <td>1.000000</td>\n",
              "      <td>0.037077</td>\n",
              "      <td>0.090462</td>\n",
              "    </tr>\n",
              "    <tr>\n",
              "      <th>uria</th>\n",
              "      <td>0.046450</td>\n",
              "      <td>0.036992</td>\n",
              "      <td>-0.034643</td>\n",
              "      <td>-0.006424</td>\n",
              "      <td>0.037077</td>\n",
              "      <td>1.000000</td>\n",
              "      <td>-0.100647</td>\n",
              "    </tr>\n",
              "    <tr>\n",
              "      <th>comdominiom</th>\n",
              "      <td>-0.012451</td>\n",
              "      <td>-0.046039</td>\n",
              "      <td>0.055001</td>\n",
              "      <td>0.050742</td>\n",
              "      <td>0.090462</td>\n",
              "      <td>-0.100647</td>\n",
              "      <td>1.000000</td>\n",
              "    </tr>\n",
              "  </tbody>\n",
              "</table>\n",
              "</div>\n",
              "      <button class=\"colab-df-convert\" onclick=\"convertToInteractive('df-bfedf2c0-c608-4e78-951d-f056b9feb97d')\"\n",
              "              title=\"Convert this dataframe to an interactive table.\"\n",
              "              style=\"display:none;\">\n",
              "        \n",
              "  <svg xmlns=\"http://www.w3.org/2000/svg\" height=\"24px\"viewBox=\"0 0 24 24\"\n",
              "       width=\"24px\">\n",
              "    <path d=\"M0 0h24v24H0V0z\" fill=\"none\"/>\n",
              "    <path d=\"M18.56 5.44l.94 2.06.94-2.06 2.06-.94-2.06-.94-.94-2.06-.94 2.06-2.06.94zm-11 1L8.5 8.5l.94-2.06 2.06-.94-2.06-.94L8.5 2.5l-.94 2.06-2.06.94zm10 10l.94 2.06.94-2.06 2.06-.94-2.06-.94-.94-2.06-.94 2.06-2.06.94z\"/><path d=\"M17.41 7.96l-1.37-1.37c-.4-.4-.92-.59-1.43-.59-.52 0-1.04.2-1.43.59L10.3 9.45l-7.72 7.72c-.78.78-.78 2.05 0 2.83L4 21.41c.39.39.9.59 1.41.59.51 0 1.02-.2 1.41-.59l7.78-7.78 2.81-2.81c.8-.78.8-2.07 0-2.86zM5.41 20L4 18.59l7.72-7.72 1.47 1.35L5.41 20z\"/>\n",
              "  </svg>\n",
              "      </button>\n",
              "      \n",
              "  <style>\n",
              "    .colab-df-container {\n",
              "      display:flex;\n",
              "      flex-wrap:wrap;\n",
              "      gap: 12px;\n",
              "    }\n",
              "\n",
              "    .colab-df-convert {\n",
              "      background-color: #E8F0FE;\n",
              "      border: none;\n",
              "      border-radius: 50%;\n",
              "      cursor: pointer;\n",
              "      display: none;\n",
              "      fill: #1967D2;\n",
              "      height: 32px;\n",
              "      padding: 0 0 0 0;\n",
              "      width: 32px;\n",
              "    }\n",
              "\n",
              "    .colab-df-convert:hover {\n",
              "      background-color: #E2EBFA;\n",
              "      box-shadow: 0px 1px 2px rgba(60, 64, 67, 0.3), 0px 1px 3px 1px rgba(60, 64, 67, 0.15);\n",
              "      fill: #174EA6;\n",
              "    }\n",
              "\n",
              "    [theme=dark] .colab-df-convert {\n",
              "      background-color: #3B4455;\n",
              "      fill: #D2E3FC;\n",
              "    }\n",
              "\n",
              "    [theme=dark] .colab-df-convert:hover {\n",
              "      background-color: #434B5C;\n",
              "      box-shadow: 0px 1px 3px 1px rgba(0, 0, 0, 0.15);\n",
              "      filter: drop-shadow(0px 1px 2px rgba(0, 0, 0, 0.3));\n",
              "      fill: #FFFFFF;\n",
              "    }\n",
              "  </style>\n",
              "\n",
              "      <script>\n",
              "        const buttonEl =\n",
              "          document.querySelector('#df-bfedf2c0-c608-4e78-951d-f056b9feb97d button.colab-df-convert');\n",
              "        buttonEl.style.display =\n",
              "          google.colab.kernel.accessAllowed ? 'block' : 'none';\n",
              "\n",
              "        async function convertToInteractive(key) {\n",
              "          const element = document.querySelector('#df-bfedf2c0-c608-4e78-951d-f056b9feb97d');\n",
              "          const dataTable =\n",
              "            await google.colab.kernel.invokeFunction('convertToInteractive',\n",
              "                                                     [key], {});\n",
              "          if (!dataTable) return;\n",
              "\n",
              "          const docLinkHtml = 'Like what you see? Visit the ' +\n",
              "            '<a target=\"_blank\" href=https://colab.research.google.com/notebooks/data_table.ipynb>data table notebook</a>'\n",
              "            + ' to learn more about interactive tables.';\n",
              "          element.innerHTML = '';\n",
              "          dataTable['output_type'] = 'display_data';\n",
              "          await google.colab.output.renderOutput(dataTable, element);\n",
              "          const docLink = document.createElement('div');\n",
              "          docLink.innerHTML = docLinkHtml;\n",
              "          element.appendChild(docLink);\n",
              "        }\n",
              "      </script>\n",
              "    </div>\n",
              "  </div>\n",
              "  "
            ]
          },
          "metadata": {},
          "execution_count": 108
        }
      ]
    },
    {
      "cell_type": "code",
      "source": [
        "# Correlation Map of numerical data\n",
        "corr = df.corr()\n",
        "sns.heatmap(data=corr, square=True , annot=True, cbar=True)"
      ],
      "metadata": {
        "colab": {
          "base_uri": "https://localhost:8080/",
          "height": 347
        },
        "id": "O4RPyEW3Sma_",
        "outputId": "6c363843-8f02-42b8-e69b-4adeb322a672"
      },
      "execution_count": 109,
      "outputs": [
        {
          "output_type": "execute_result",
          "data": {
            "text/plain": [
              "<matplotlib.axes._subplots.AxesSubplot at 0x7f5212cf6650>"
            ]
          },
          "metadata": {},
          "execution_count": 109
        },
        {
          "output_type": "display_data",
          "data": {
            "text/plain": [
              "<Figure size 432x288 with 2 Axes>"
            ],
            "image/png": "[encoded data removed]"
          },
          "metadata": {
            "needs_background": "light"
          }
        }
      ]
    },
    {
      "cell_type": "code",
      "source": [
        "#Display graphical representation of correlation between numerical attributes\n",
        "sns.pairplot(data=df)"
      ],
      "metadata": {
        "colab": {
          "base_uri": "https://localhost:8080/",
          "height": 1000
        },
        "id": "Xs7pE_3VS3pf",
        "outputId": "0c10e22e-3d8e-414c-ac43-bca4a9158480"
      },
      "execution_count": 110,
      "outputs": [
        {
          "output_type": "execute_result",
          "data": {
            "text/plain": [
              "<seaborn.axisgrid.PairGrid at 0x7f52103b8c50>"
            ]
          },
          "metadata": {},
          "execution_count": 110
        },
        {
          "output_type": "display_data",
          "data": {
            "text/plain": [
              "<Figure size 1260x1260 with 56 Axes>"
            ],
            "image/png": "[encoded data removed]"
          },
          "metadata": {
            "needs_background": "light"
          }
        }
      ]
    },
    {
      "cell_type": "markdown",
      "source": [
        "### **Preliminary Conclusion**\n",
        "Judging from the generated graphs of the pair plot and the heat map, I predict that there will only be a few of the attributes that have a discernable effect on the deny attribute. I say this for 2 reasons. hir and dir have the highest correlation rating of .78. The next highest rating is .19 which is extremely low. I think it is likely that hir and dir will be the 2 most important attributes for determining denial of a loan. I also predict that some of the categorical attributes will have little to no influence on determining if an applicant should be denied for a loan or not. I say this because I don't see what value these attributes would add to the decision in a real world setting. I speak of attributes such as black. This decision should be made independant of one's circumstances of birth. All that matters is the financial history of the applicant.\n",
        "\n",
        "## **Part 5: Regression Modeling**"
      ],
      "metadata": {
        "id": "yO5KJ2ONTsRt"
      }
    },
    {
      "cell_type": "code",
      "source": [
        "from sklearn.feature_selection import SelectKBest\n",
        "from sklearn.feature_selection import f_regression\n",
        "\n",
        "#Create data frame with no categorical data inpreparation for feature selection\n",
        "\n",
        "df2 = pd.read_csv(\"https://raw.githubusercontent.com/espio11/Data-Analytics-Summer-2022/main/HDMA%20Boston%20Housing%20Data\", sep = \",\")\n",
        "del df2['Unnamed: 0'] #Deleted unnecessary column that held a row count\n",
        "del df2['pbcr']\n",
        "del df2['dmi']\n",
        "del df2['self']\n",
        "del df2['single']\n",
        "del df2['comdominiom']\n",
        "del df2['black']\n",
        "\n",
        "target = df['deny']\n",
        "features = df.drop('deny',axis=1).copy()\n",
        "feature_names = list(features.columns)\n",
        "\n",
        "selection_kBest = SelectKBest(f_regression,k = 4).fit(features,target)\n",
        "\n",
        "#find which columns were chosen\n",
        "features_kbest = selection_kBest.get_support()\n",
        "print(\"Overall features: \", df.columns,'\\n')\n",
        "print(\"Chosen features: \", df[features_kbest],'\\n')\n",
        "\n",
        "selection_kBest.scores_"
      ],
      "metadata": {
        "colab": {
          "base_uri": "https://localhost:8080/",
          "height": 415
        },
        "id": "zTLjibfuWxfB",
        "outputId": "1f49453d-1a35-4b64-8558-50f523a6506f"
      },
      "execution_count": 120,
      "outputs": [
        {
          "output_type": "error",
          "ename": "TypeError",
          "evalue": "ignored",
          "traceback": [
            "\u001b[0;31m---------------------------------------------------------------------------\u001b[0m",
            "\u001b[0;31mTypeError\u001b[0m                                 Traceback (most recent call last)",
            "\u001b[0;32m<ipython-input-120-468ef0f4972e>\u001b[0m in \u001b[0;36m<module>\u001b[0;34m()\u001b[0m\n\u001b[1;32m     17\u001b[0m \u001b[0mfeature_names\u001b[0m \u001b[0;34m=\u001b[0m \u001b[0mlist\u001b[0m\u001b[0;34m(\u001b[0m\u001b[0mfeatures\u001b[0m\u001b[0;34m.\u001b[0m\u001b[0mcolumns\u001b[0m\u001b[0;34m)\u001b[0m\u001b[0;34m\u001b[0m\u001b[0;34m\u001b[0m\u001b[0m\n\u001b[1;32m     18\u001b[0m \u001b[0;34m\u001b[0m\u001b[0m\n\u001b[0;32m---> 19\u001b[0;31m \u001b[0mselection_kBest\u001b[0m \u001b[0;34m=\u001b[0m \u001b[0mSelectKBest\u001b[0m\u001b[0;34m(\u001b[0m\u001b[0mf_regression\u001b[0m\u001b[0;34m,\u001b[0m\u001b[0mk\u001b[0m \u001b[0;34m=\u001b[0m \u001b[0;36m4\u001b[0m\u001b[0;34m)\u001b[0m\u001b[0;34m.\u001b[0m\u001b[0mfit\u001b[0m\u001b[0;34m(\u001b[0m\u001b[0mfeatures\u001b[0m\u001b[0;34m,\u001b[0m\u001b[0mtarget\u001b[0m\u001b[0;34m)\u001b[0m\u001b[0;34m\u001b[0m\u001b[0;34m\u001b[0m\u001b[0m\n\u001b[0m\u001b[1;32m     20\u001b[0m \u001b[0;34m\u001b[0m\u001b[0m\n\u001b[1;32m     21\u001b[0m \u001b[0;31m#find which columns were chosen\u001b[0m\u001b[0;34m\u001b[0m\u001b[0;34m\u001b[0m\u001b[0;34m\u001b[0m\u001b[0m\n",
            "\u001b[0;32m/usr/local/lib/python3.7/dist-packages/sklearn/feature_selection/_univariate_selection.py\u001b[0m in \u001b[0;36mfit\u001b[0;34m(self, X, y)\u001b[0m\n\u001b[1;32m    406\u001b[0m \u001b[0;34m\u001b[0m\u001b[0m\n\u001b[1;32m    407\u001b[0m         \u001b[0mself\u001b[0m\u001b[0;34m.\u001b[0m\u001b[0m_check_params\u001b[0m\u001b[0;34m(\u001b[0m\u001b[0mX\u001b[0m\u001b[0;34m,\u001b[0m \u001b[0my\u001b[0m\u001b[0;34m)\u001b[0m\u001b[0;34m\u001b[0m\u001b[0;34m\u001b[0m\u001b[0m\n\u001b[0;32m--> 408\u001b[0;31m         \u001b[0mscore_func_ret\u001b[0m \u001b[0;34m=\u001b[0m \u001b[0mself\u001b[0m\u001b[0;34m.\u001b[0m\u001b[0mscore_func\u001b[0m\u001b[0;34m(\u001b[0m\u001b[0mX\u001b[0m\u001b[0;34m,\u001b[0m \u001b[0my\u001b[0m\u001b[0;34m)\u001b[0m\u001b[0;34m\u001b[0m\u001b[0;34m\u001b[0m\u001b[0m\n\u001b[0m\u001b[1;32m    409\u001b[0m         \u001b[0;32mif\u001b[0m \u001b[0misinstance\u001b[0m\u001b[0;34m(\u001b[0m\u001b[0mscore_func_ret\u001b[0m\u001b[0;34m,\u001b[0m \u001b[0;34m(\u001b[0m\u001b[0mlist\u001b[0m\u001b[0;34m,\u001b[0m \u001b[0mtuple\u001b[0m\u001b[0;34m)\u001b[0m\u001b[0;34m)\u001b[0m\u001b[0;34m:\u001b[0m\u001b[0;34m\u001b[0m\u001b[0;34m\u001b[0m\u001b[0m\n\u001b[1;32m    410\u001b[0m             \u001b[0mself\u001b[0m\u001b[0;34m.\u001b[0m\u001b[0mscores_\u001b[0m\u001b[0;34m,\u001b[0m \u001b[0mself\u001b[0m\u001b[0;34m.\u001b[0m\u001b[0mpvalues_\u001b[0m \u001b[0;34m=\u001b[0m \u001b[0mscore_func_ret\u001b[0m\u001b[0;34m\u001b[0m\u001b[0;34m\u001b[0m\u001b[0m\n",
            "\u001b[0;32m/usr/local/lib/python3.7/dist-packages/sklearn/feature_selection/_univariate_selection.py\u001b[0m in \u001b[0;36mf_regression\u001b[0;34m(X, y, center)\u001b[0m\n\u001b[1;32m    352\u001b[0m         \u001b[0mscores\u001b[0m\u001b[0;34m.\u001b[0m\u001b[0;34m\u001b[0m\u001b[0;34m\u001b[0m\u001b[0m\n\u001b[1;32m    353\u001b[0m     \"\"\"\n\u001b[0;32m--> 354\u001b[0;31m     \u001b[0mcorrelation_coefficient\u001b[0m \u001b[0;34m=\u001b[0m \u001b[0mr_regression\u001b[0m\u001b[0;34m(\u001b[0m\u001b[0mX\u001b[0m\u001b[0;34m,\u001b[0m \u001b[0my\u001b[0m\u001b[0;34m,\u001b[0m \u001b[0mcenter\u001b[0m\u001b[0;34m=\u001b[0m\u001b[0mcenter\u001b[0m\u001b[0;34m)\u001b[0m\u001b[0;34m\u001b[0m\u001b[0;34m\u001b[0m\u001b[0m\n\u001b[0m\u001b[1;32m    355\u001b[0m     \u001b[0mdeg_of_freedom\u001b[0m \u001b[0;34m=\u001b[0m \u001b[0my\u001b[0m\u001b[0;34m.\u001b[0m\u001b[0msize\u001b[0m \u001b[0;34m-\u001b[0m \u001b[0;34m(\u001b[0m\u001b[0;36m2\u001b[0m \u001b[0;32mif\u001b[0m \u001b[0mcenter\u001b[0m \u001b[0;32melse\u001b[0m \u001b[0;36m1\u001b[0m\u001b[0;34m)\u001b[0m\u001b[0;34m\u001b[0m\u001b[0;34m\u001b[0m\u001b[0m\n\u001b[1;32m    356\u001b[0m \u001b[0;34m\u001b[0m\u001b[0m\n",
            "\u001b[0;32m/usr/local/lib/python3.7/dist-packages/sklearn/feature_selection/_univariate_selection.py\u001b[0m in \u001b[0;36mr_regression\u001b[0;34m(X, y, center)\u001b[0m\n\u001b[1;32m    276\u001b[0m     \u001b[0;31m# need not center X\u001b[0m\u001b[0;34m\u001b[0m\u001b[0;34m\u001b[0m\u001b[0;34m\u001b[0m\u001b[0m\n\u001b[1;32m    277\u001b[0m     \u001b[0;32mif\u001b[0m \u001b[0mcenter\u001b[0m\u001b[0;34m:\u001b[0m\u001b[0;34m\u001b[0m\u001b[0;34m\u001b[0m\u001b[0m\n\u001b[0;32m--> 278\u001b[0;31m         \u001b[0my\u001b[0m \u001b[0;34m=\u001b[0m \u001b[0my\u001b[0m \u001b[0;34m-\u001b[0m \u001b[0mnp\u001b[0m\u001b[0;34m.\u001b[0m\u001b[0mmean\u001b[0m\u001b[0;34m(\u001b[0m\u001b[0my\u001b[0m\u001b[0;34m)\u001b[0m\u001b[0;34m\u001b[0m\u001b[0;34m\u001b[0m\u001b[0m\n\u001b[0m\u001b[1;32m    279\u001b[0m         \u001b[0;32mif\u001b[0m \u001b[0missparse\u001b[0m\u001b[0;34m(\u001b[0m\u001b[0mX\u001b[0m\u001b[0;34m)\u001b[0m\u001b[0;34m:\u001b[0m\u001b[0;34m\u001b[0m\u001b[0;34m\u001b[0m\u001b[0m\n\u001b[1;32m    280\u001b[0m             \u001b[0mX_means\u001b[0m \u001b[0;34m=\u001b[0m \u001b[0mX\u001b[0m\u001b[0;34m.\u001b[0m\u001b[0mmean\u001b[0m\u001b[0;34m(\u001b[0m\u001b[0maxis\u001b[0m\u001b[0;34m=\u001b[0m\u001b[0;36m0\u001b[0m\u001b[0;34m)\u001b[0m\u001b[0;34m.\u001b[0m\u001b[0mgetA1\u001b[0m\u001b[0;34m(\u001b[0m\u001b[0;34m)\u001b[0m\u001b[0;34m\u001b[0m\u001b[0;34m\u001b[0m\u001b[0m\n",
            "\u001b[0;32m<__array_function__ internals>\u001b[0m in \u001b[0;36mmean\u001b[0;34m(*args, **kwargs)\u001b[0m\n",
            "\u001b[0;32m/usr/local/lib/python3.7/dist-packages/numpy/core/fromnumeric.py\u001b[0m in \u001b[0;36mmean\u001b[0;34m(a, axis, dtype, out, keepdims, where)\u001b[0m\n\u001b[1;32m   3439\u001b[0m \u001b[0;34m\u001b[0m\u001b[0m\n\u001b[1;32m   3440\u001b[0m     return _methods._mean(a, axis=axis, dtype=dtype,\n\u001b[0;32m-> 3441\u001b[0;31m                           out=out, **kwargs)\n\u001b[0m\u001b[1;32m   3442\u001b[0m \u001b[0;34m\u001b[0m\u001b[0m\n\u001b[1;32m   3443\u001b[0m \u001b[0;34m\u001b[0m\u001b[0m\n",
            "\u001b[0;32m/usr/local/lib/python3.7/dist-packages/numpy/core/_methods.py\u001b[0m in \u001b[0;36m_mean\u001b[0;34m(a, axis, dtype, out, keepdims, where)\u001b[0m\n\u001b[1;32m    189\u001b[0m             \u001b[0mret\u001b[0m \u001b[0;34m=\u001b[0m \u001b[0mret\u001b[0m\u001b[0;34m.\u001b[0m\u001b[0mdtype\u001b[0m\u001b[0;34m.\u001b[0m\u001b[0mtype\u001b[0m\u001b[0;34m(\u001b[0m\u001b[0mret\u001b[0m \u001b[0;34m/\u001b[0m \u001b[0mrcount\u001b[0m\u001b[0;34m)\u001b[0m\u001b[0;34m\u001b[0m\u001b[0;34m\u001b[0m\u001b[0m\n\u001b[1;32m    190\u001b[0m     \u001b[0;32melse\u001b[0m\u001b[0;34m:\u001b[0m\u001b[0;34m\u001b[0m\u001b[0;34m\u001b[0m\u001b[0m\n\u001b[0;32m--> 191\u001b[0;31m         \u001b[0mret\u001b[0m \u001b[0;34m=\u001b[0m \u001b[0mret\u001b[0m \u001b[0;34m/\u001b[0m \u001b[0mrcount\u001b[0m\u001b[0;34m\u001b[0m\u001b[0;34m\u001b[0m\u001b[0m\n\u001b[0m\u001b[1;32m    192\u001b[0m \u001b[0;34m\u001b[0m\u001b[0m\n\u001b[1;32m    193\u001b[0m     \u001b[0;32mreturn\u001b[0m \u001b[0mret\u001b[0m\u001b[0;34m\u001b[0m\u001b[0;34m\u001b[0m\u001b[0m\n",
            "\u001b[0;31mTypeError\u001b[0m: ufunc 'true_divide' not supported for the input types, and the inputs could not be safely coerced to any supported types according to the casting rule ''safe''"
          ]
        }
      ]
    }
  ]
}
