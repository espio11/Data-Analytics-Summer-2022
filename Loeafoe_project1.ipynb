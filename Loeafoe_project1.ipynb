{
  "nbformat": 4,
  "nbformat_minor": 0,
  "metadata": {
    "colab": {
      "name": "Loeafoe_project1.ipynb",
      "provenance": []
    },
    "kernelspec": {
      "name": "python3",
      "display_name": "Python 3"
    },
    "language_info": {
      "name": "python"
    }
  },
  "cells": [
    {
      "cell_type": "code",
      "execution_count": null,
      "metadata": {
        "id": "LCH5kOCbq-rp"
      },
      "outputs": [],
      "source": [
        "# load pandas and numpy libraries\n",
        "import pandas as pd \n",
        "import numpy as np\n",
        "import matplotlib.pyplot as plt\n",
        "import missingno as msno\n",
        "import seaborn as sns\n",
        "\n",
        "df = pd.read_csv(\"https://raw.githubusercontent.com/MatthewFried/MAT5001/main/diamonds.csv\")\n",
        "df.drop(df.columns[0],axis=1,inplace=True)\n",
        "print(df.shape)\n",
        "print(df.head())"
      ]
    }
  ]
}