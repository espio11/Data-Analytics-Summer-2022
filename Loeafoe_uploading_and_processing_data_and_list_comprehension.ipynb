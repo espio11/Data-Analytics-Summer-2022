{
  "nbformat": 4,
  "nbformat_minor": 0,
  "metadata": {
    "colab": {
      "name": "Loeafoe-uploading_and_processing_data_and_list_comprehension.ipynb",
      "provenance": []
    },
    "kernelspec": {
      "name": "python3",
      "display_name": "Python 3"
    },
    "language_info": {
      "name": "python"
    }
  },
  "cells": [
    {
      "cell_type": "markdown",
      "source": [
        "**Dean Loeafoe - Upload Assignment: Uploading and Processing Data and List Comprehension**\n",
        " "
      ],
      "metadata": {
        "id": "Git3tXRqDdBo"
      }
    },
    {
      "cell_type": "code",
      "metadata": {
        "id": "2IR-yz8LAnVa"
      },
      "source": [
        "#Import necessary libraries for future use\n",
        "import numpy as np\n",
        "import pandas as pd"
      ],
      "execution_count": 34,
      "outputs": []
    },
    {
      "cell_type": "code",
      "source": [
        "#1) Upload the data to github. \n",
        "df = pd.read_csv(\"https://raw.githubusercontent.com/espio11/Data-Analytics-Summer-2022/main/cars-sample35.txt\" ,header=None)\n",
        "df.head()"
      ],
      "metadata": {
        "colab": {
          "base_uri": "https://localhost:8080/",
          "height": 206
        },
        "id": "wbDs6-hMNlRU",
        "outputId": "7330f50f-2d8b-4e07-df95-3f03e60a077b"
      },
      "execution_count": 114,
      "outputs": [
        {
          "output_type": "execute_result",
          "data": {
            "text/plain": [
              "       0     1  2     3      4     5      6\n",
              "0   high  high  2     4    med   low  unacc\n",
              "1   high  high  4  more  small  high    acc\n",
              "2   high  high  4  more    big   low  unacc\n",
              "3   high   low  2  more    big  high    acc\n",
              "4  vhigh   low  3     2    med   med  unacc"
            ],
            "text/html": [
              "\n",
              "  <div id=\"df-1b4c621a-3643-40f3-8d9b-f18aa99b1529\">\n",
              "    <div class=\"colab-df-container\">\n",
              "      <div>\n",
              "<style scoped>\n",
              "    .dataframe tbody tr th:only-of-type {\n",
              "        vertical-align: middle;\n",
              "    }\n",
              "\n",
              "    .dataframe tbody tr th {\n",
              "        vertical-align: top;\n",
              "    }\n",
              "\n",
              "    .dataframe thead th {\n",
              "        text-align: right;\n",
              "    }\n",
              "</style>\n",
              "<table border=\"1\" class=\"dataframe\">\n",
              "  <thead>\n",
              "    <tr style=\"text-align: right;\">\n",
              "      <th></th>\n",
              "      <th>0</th>\n",
              "      <th>1</th>\n",
              "      <th>2</th>\n",
              "      <th>3</th>\n",
              "      <th>4</th>\n",
              "      <th>5</th>\n",
              "      <th>6</th>\n",
              "    </tr>\n",
              "  </thead>\n",
              "  <tbody>\n",
              "    <tr>\n",
              "      <th>0</th>\n",
              "      <td>high</td>\n",
              "      <td>high</td>\n",
              "      <td>2</td>\n",
              "      <td>4</td>\n",
              "      <td>med</td>\n",
              "      <td>low</td>\n",
              "      <td>unacc</td>\n",
              "    </tr>\n",
              "    <tr>\n",
              "      <th>1</th>\n",
              "      <td>high</td>\n",
              "      <td>high</td>\n",
              "      <td>4</td>\n",
              "      <td>more</td>\n",
              "      <td>small</td>\n",
              "      <td>high</td>\n",
              "      <td>acc</td>\n",
              "    </tr>\n",
              "    <tr>\n",
              "      <th>2</th>\n",
              "      <td>high</td>\n",
              "      <td>high</td>\n",
              "      <td>4</td>\n",
              "      <td>more</td>\n",
              "      <td>big</td>\n",
              "      <td>low</td>\n",
              "      <td>unacc</td>\n",
              "    </tr>\n",
              "    <tr>\n",
              "      <th>3</th>\n",
              "      <td>high</td>\n",
              "      <td>low</td>\n",
              "      <td>2</td>\n",
              "      <td>more</td>\n",
              "      <td>big</td>\n",
              "      <td>high</td>\n",
              "      <td>acc</td>\n",
              "    </tr>\n",
              "    <tr>\n",
              "      <th>4</th>\n",
              "      <td>vhigh</td>\n",
              "      <td>low</td>\n",
              "      <td>3</td>\n",
              "      <td>2</td>\n",
              "      <td>med</td>\n",
              "      <td>med</td>\n",
              "      <td>unacc</td>\n",
              "    </tr>\n",
              "  </tbody>\n",
              "</table>\n",
              "</div>\n",
              "      <button class=\"colab-df-convert\" onclick=\"convertToInteractive('df-1b4c621a-3643-40f3-8d9b-f18aa99b1529')\"\n",
              "              title=\"Convert this dataframe to an interactive table.\"\n",
              "              style=\"display:none;\">\n",
              "        \n",
              "  <svg xmlns=\"http://www.w3.org/2000/svg\" height=\"24px\"viewBox=\"0 0 24 24\"\n",
              "       width=\"24px\">\n",
              "    <path d=\"M0 0h24v24H0V0z\" fill=\"none\"/>\n",
              "    <path d=\"M18.56 5.44l.94 2.06.94-2.06 2.06-.94-2.06-.94-.94-2.06-.94 2.06-2.06.94zm-11 1L8.5 8.5l.94-2.06 2.06-.94-2.06-.94L8.5 2.5l-.94 2.06-2.06.94zm10 10l.94 2.06.94-2.06 2.06-.94-2.06-.94-.94-2.06-.94 2.06-2.06.94z\"/><path d=\"M17.41 7.96l-1.37-1.37c-.4-.4-.92-.59-1.43-.59-.52 0-1.04.2-1.43.59L10.3 9.45l-7.72 7.72c-.78.78-.78 2.05 0 2.83L4 21.41c.39.39.9.59 1.41.59.51 0 1.02-.2 1.41-.59l7.78-7.78 2.81-2.81c.8-.78.8-2.07 0-2.86zM5.41 20L4 18.59l7.72-7.72 1.47 1.35L5.41 20z\"/>\n",
              "  </svg>\n",
              "      </button>\n",
              "      \n",
              "  <style>\n",
              "    .colab-df-container {\n",
              "      display:flex;\n",
              "      flex-wrap:wrap;\n",
              "      gap: 12px;\n",
              "    }\n",
              "\n",
              "    .colab-df-convert {\n",
              "      background-color: #E8F0FE;\n",
              "      border: none;\n",
              "      border-radius: 50%;\n",
              "      cursor: pointer;\n",
              "      display: none;\n",
              "      fill: #1967D2;\n",
              "      height: 32px;\n",
              "      padding: 0 0 0 0;\n",
              "      width: 32px;\n",
              "    }\n",
              "\n",
              "    .colab-df-convert:hover {\n",
              "      background-color: #E2EBFA;\n",
              "      box-shadow: 0px 1px 2px rgba(60, 64, 67, 0.3), 0px 1px 3px 1px rgba(60, 64, 67, 0.15);\n",
              "      fill: #174EA6;\n",
              "    }\n",
              "\n",
              "    [theme=dark] .colab-df-convert {\n",
              "      background-color: #3B4455;\n",
              "      fill: #D2E3FC;\n",
              "    }\n",
              "\n",
              "    [theme=dark] .colab-df-convert:hover {\n",
              "      background-color: #434B5C;\n",
              "      box-shadow: 0px 1px 3px 1px rgba(0, 0, 0, 0.15);\n",
              "      filter: drop-shadow(0px 1px 2px rgba(0, 0, 0, 0.3));\n",
              "      fill: #FFFFFF;\n",
              "    }\n",
              "  </style>\n",
              "\n",
              "      <script>\n",
              "        const buttonEl =\n",
              "          document.querySelector('#df-1b4c621a-3643-40f3-8d9b-f18aa99b1529 button.colab-df-convert');\n",
              "        buttonEl.style.display =\n",
              "          google.colab.kernel.accessAllowed ? 'block' : 'none';\n",
              "\n",
              "        async function convertToInteractive(key) {\n",
              "          const element = document.querySelector('#df-1b4c621a-3643-40f3-8d9b-f18aa99b1529');\n",
              "          const dataTable =\n",
              "            await google.colab.kernel.invokeFunction('convertToInteractive',\n",
              "                                                     [key], {});\n",
              "          if (!dataTable) return;\n",
              "\n",
              "          const docLinkHtml = 'Like what you see? Visit the ' +\n",
              "            '<a target=\"_blank\" href=https://colab.research.google.com/notebooks/data_table.ipynb>data table notebook</a>'\n",
              "            + ' to learn more about interactive tables.';\n",
              "          element.innerHTML = '';\n",
              "          dataTable['output_type'] = 'display_data';\n",
              "          await google.colab.output.renderOutput(dataTable, element);\n",
              "          const docLink = document.createElement('div');\n",
              "          docLink.innerHTML = docLinkHtml;\n",
              "          element.appendChild(docLink);\n",
              "        }\n",
              "      </script>\n",
              "    </div>\n",
              "  </div>\n",
              "  "
            ]
          },
          "metadata": {},
          "execution_count": 114
        }
      ]
    },
    {
      "cell_type": "code",
      "source": [
        "#1) Upload the data to python using Pandas and give it headers.\n",
        "\n",
        "df.columns = ['Price',\n",
        "             'Maintenance Cost',\n",
        "             'Number of Doors',\n",
        "             'Number of Passengers',\n",
        "             'Luggage Capacity',\n",
        "             'Safety Rating',\n",
        "             'Classification of Vehicle']\n",
        "\n",
        "df.head()"
      ],
      "metadata": {
        "colab": {
          "base_uri": "https://localhost:8080/",
          "height": 206
        },
        "id": "DfcEiZAjN-y_",
        "outputId": "d8ce6826-5ecf-4a7e-88cd-f09eccfae81a"
      },
      "execution_count": 86,
      "outputs": [
        {
          "output_type": "execute_result",
          "data": {
            "text/plain": [
              "   Price Maintenance Cost Number of Doors Number of Passengers  \\\n",
              "0   high             high               2                    4   \n",
              "1   high             high               4                 more   \n",
              "2   high             high               4                 more   \n",
              "3   high              low               2                 more   \n",
              "4  vhigh              low               3                    2   \n",
              "\n",
              "  Luggage Capacity Safety Rating Classification of Vehicle  \n",
              "0              med           low                     unacc  \n",
              "1            small          high                       acc  \n",
              "2              big           low                     unacc  \n",
              "3              big          high                       acc  \n",
              "4              med           med                     unacc  "
            ],
            "text/html": [
              "\n",
              "  <div id=\"df-416efe5c-7125-489c-99e1-41e552360637\">\n",
              "    <div class=\"colab-df-container\">\n",
              "      <div>\n",
              "<style scoped>\n",
              "    .dataframe tbody tr th:only-of-type {\n",
              "        vertical-align: middle;\n",
              "    }\n",
              "\n",
              "    .dataframe tbody tr th {\n",
              "        vertical-align: top;\n",
              "    }\n",
              "\n",
              "    .dataframe thead th {\n",
              "        text-align: right;\n",
              "    }\n",
              "</style>\n",
              "<table border=\"1\" class=\"dataframe\">\n",
              "  <thead>\n",
              "    <tr style=\"text-align: right;\">\n",
              "      <th></th>\n",
              "      <th>Price</th>\n",
              "      <th>Maintenance Cost</th>\n",
              "      <th>Number of Doors</th>\n",
              "      <th>Number of Passengers</th>\n",
              "      <th>Luggage Capacity</th>\n",
              "      <th>Safety Rating</th>\n",
              "      <th>Classification of Vehicle</th>\n",
              "    </tr>\n",
              "  </thead>\n",
              "  <tbody>\n",
              "    <tr>\n",
              "      <th>0</th>\n",
              "      <td>high</td>\n",
              "      <td>high</td>\n",
              "      <td>2</td>\n",
              "      <td>4</td>\n",
              "      <td>med</td>\n",
              "      <td>low</td>\n",
              "      <td>unacc</td>\n",
              "    </tr>\n",
              "    <tr>\n",
              "      <th>1</th>\n",
              "      <td>high</td>\n",
              "      <td>high</td>\n",
              "      <td>4</td>\n",
              "      <td>more</td>\n",
              "      <td>small</td>\n",
              "      <td>high</td>\n",
              "      <td>acc</td>\n",
              "    </tr>\n",
              "    <tr>\n",
              "      <th>2</th>\n",
              "      <td>high</td>\n",
              "      <td>high</td>\n",
              "      <td>4</td>\n",
              "      <td>more</td>\n",
              "      <td>big</td>\n",
              "      <td>low</td>\n",
              "      <td>unacc</td>\n",
              "    </tr>\n",
              "    <tr>\n",
              "      <th>3</th>\n",
              "      <td>high</td>\n",
              "      <td>low</td>\n",
              "      <td>2</td>\n",
              "      <td>more</td>\n",
              "      <td>big</td>\n",
              "      <td>high</td>\n",
              "      <td>acc</td>\n",
              "    </tr>\n",
              "    <tr>\n",
              "      <th>4</th>\n",
              "      <td>vhigh</td>\n",
              "      <td>low</td>\n",
              "      <td>3</td>\n",
              "      <td>2</td>\n",
              "      <td>med</td>\n",
              "      <td>med</td>\n",
              "      <td>unacc</td>\n",
              "    </tr>\n",
              "  </tbody>\n",
              "</table>\n",
              "</div>\n",
              "      <button class=\"colab-df-convert\" onclick=\"convertToInteractive('df-416efe5c-7125-489c-99e1-41e552360637')\"\n",
              "              title=\"Convert this dataframe to an interactive table.\"\n",
              "              style=\"display:none;\">\n",
              "        \n",
              "  <svg xmlns=\"http://www.w3.org/2000/svg\" height=\"24px\"viewBox=\"0 0 24 24\"\n",
              "       width=\"24px\">\n",
              "    <path d=\"M0 0h24v24H0V0z\" fill=\"none\"/>\n",
              "    <path d=\"M18.56 5.44l.94 2.06.94-2.06 2.06-.94-2.06-.94-.94-2.06-.94 2.06-2.06.94zm-11 1L8.5 8.5l.94-2.06 2.06-.94-2.06-.94L8.5 2.5l-.94 2.06-2.06.94zm10 10l.94 2.06.94-2.06 2.06-.94-2.06-.94-.94-2.06-.94 2.06-2.06.94z\"/><path d=\"M17.41 7.96l-1.37-1.37c-.4-.4-.92-.59-1.43-.59-.52 0-1.04.2-1.43.59L10.3 9.45l-7.72 7.72c-.78.78-.78 2.05 0 2.83L4 21.41c.39.39.9.59 1.41.59.51 0 1.02-.2 1.41-.59l7.78-7.78 2.81-2.81c.8-.78.8-2.07 0-2.86zM5.41 20L4 18.59l7.72-7.72 1.47 1.35L5.41 20z\"/>\n",
              "  </svg>\n",
              "      </button>\n",
              "      \n",
              "  <style>\n",
              "    .colab-df-container {\n",
              "      display:flex;\n",
              "      flex-wrap:wrap;\n",
              "      gap: 12px;\n",
              "    }\n",
              "\n",
              "    .colab-df-convert {\n",
              "      background-color: #E8F0FE;\n",
              "      border: none;\n",
              "      border-radius: 50%;\n",
              "      cursor: pointer;\n",
              "      display: none;\n",
              "      fill: #1967D2;\n",
              "      height: 32px;\n",
              "      padding: 0 0 0 0;\n",
              "      width: 32px;\n",
              "    }\n",
              "\n",
              "    .colab-df-convert:hover {\n",
              "      background-color: #E2EBFA;\n",
              "      box-shadow: 0px 1px 2px rgba(60, 64, 67, 0.3), 0px 1px 3px 1px rgba(60, 64, 67, 0.15);\n",
              "      fill: #174EA6;\n",
              "    }\n",
              "\n",
              "    [theme=dark] .colab-df-convert {\n",
              "      background-color: #3B4455;\n",
              "      fill: #D2E3FC;\n",
              "    }\n",
              "\n",
              "    [theme=dark] .colab-df-convert:hover {\n",
              "      background-color: #434B5C;\n",
              "      box-shadow: 0px 1px 3px 1px rgba(0, 0, 0, 0.15);\n",
              "      filter: drop-shadow(0px 1px 2px rgba(0, 0, 0, 0.3));\n",
              "      fill: #FFFFFF;\n",
              "    }\n",
              "  </style>\n",
              "\n",
              "      <script>\n",
              "        const buttonEl =\n",
              "          document.querySelector('#df-416efe5c-7125-489c-99e1-41e552360637 button.colab-df-convert');\n",
              "        buttonEl.style.display =\n",
              "          google.colab.kernel.accessAllowed ? 'block' : 'none';\n",
              "\n",
              "        async function convertToInteractive(key) {\n",
              "          const element = document.querySelector('#df-416efe5c-7125-489c-99e1-41e552360637');\n",
              "          const dataTable =\n",
              "            await google.colab.kernel.invokeFunction('convertToInteractive',\n",
              "                                                     [key], {});\n",
              "          if (!dataTable) return;\n",
              "\n",
              "          const docLinkHtml = 'Like what you see? Visit the ' +\n",
              "            '<a target=\"_blank\" href=https://colab.research.google.com/notebooks/data_table.ipynb>data table notebook</a>'\n",
              "            + ' to learn more about interactive tables.';\n",
              "          element.innerHTML = '';\n",
              "          dataTable['output_type'] = 'display_data';\n",
              "          await google.colab.output.renderOutput(dataTable, element);\n",
              "          const docLink = document.createElement('div');\n",
              "          docLink.innerHTML = docLinkHtml;\n",
              "          element.appendChild(docLink);\n",
              "        }\n",
              "      </script>\n",
              "    </div>\n",
              "  </div>\n",
              "  "
            ]
          },
          "metadata": {},
          "execution_count": 86
        }
      ]
    },
    {
      "cell_type": "code",
      "source": [
        "#2) Extract these seven attributes from each line of the file and create seven distinct Python list objects comprised solely of the values you extracted for a given attribute. \n",
        "#In other words, you should have lists of prices, maintenance costs, number of doors, etc."
      ],
      "metadata": {
        "id": "gS9INEutQhhS"
      },
      "execution_count": 84,
      "outputs": []
    },
    {
      "cell_type": "code",
      "source": [
        "#List of Price values\n",
        "\n",
        "price_list = df[\"Price\"]\n",
        "print(price_list)"
      ],
      "metadata": {
        "colab": {
          "base_uri": "https://localhost:8080/"
        },
        "id": "NkgPPBXDZ1Cc",
        "outputId": "c3255909-ec21-4fe8-fabd-895f04faed7b"
      },
      "execution_count": 94,
      "outputs": [
        {
          "output_type": "stream",
          "name": "stdout",
          "text": [
            "0      high\n",
            "1      high\n",
            "2      high\n",
            "3      high\n",
            "4     vhigh\n",
            "5       low\n",
            "6       med\n",
            "7       low\n",
            "8     vhigh\n",
            "9     vhigh\n",
            "10      low\n",
            "11    vhigh\n",
            "12     high\n",
            "13      low\n",
            "14     high\n",
            "15    vhigh\n",
            "16      med\n",
            "17     high\n",
            "18      low\n",
            "19      low\n",
            "20      med\n",
            "21      low\n",
            "22    vhigh\n",
            "23      med\n",
            "24      low\n",
            "25    vhigh\n",
            "26      med\n",
            "27     high\n",
            "28      low\n",
            "29      med\n",
            "30     high\n",
            "31     high\n",
            "32      low\n",
            "33    vhigh\n",
            "34     high\n",
            "Name: Price, dtype: object\n"
          ]
        }
      ]
    },
    {
      "cell_type": "code",
      "source": [
        "#List of Maintenance Cost values\n",
        "\n",
        "maintenance_cost_list = df[\"Maintenance Cost\"]\n",
        "print(maintenance_cost_list)"
      ],
      "metadata": {
        "colab": {
          "base_uri": "https://localhost:8080/"
        },
        "id": "q6xbpt1RaQHg",
        "outputId": "159fb033-a8b3-4068-e54e-dc579b424efb"
      },
      "execution_count": 95,
      "outputs": [
        {
          "output_type": "stream",
          "name": "stdout",
          "text": [
            "0      high\n",
            "1      high\n",
            "2      high\n",
            "3       low\n",
            "4       low\n",
            "5      high\n",
            "6       med\n",
            "7       low\n",
            "8       low\n",
            "9      high\n",
            "10      low\n",
            "11      low\n",
            "12      low\n",
            "13    vhigh\n",
            "14      low\n",
            "15     high\n",
            "16      med\n",
            "17      low\n",
            "18      low\n",
            "19      low\n",
            "20     high\n",
            "21      low\n",
            "22     high\n",
            "23    vhigh\n",
            "24    vhigh\n",
            "25      low\n",
            "26    vhigh\n",
            "27     high\n",
            "28     high\n",
            "29     high\n",
            "30      low\n",
            "31    vhigh\n",
            "32      low\n",
            "33    vhigh\n",
            "34      low\n",
            "Name: Maintenance Cost, dtype: object\n"
          ]
        }
      ]
    },
    {
      "cell_type": "code",
      "source": [
        "#List of Number of Doors values\n",
        "\n",
        "number_of_doors_list = df[\"Number of Doors\"]\n",
        "print(number_of_doors_list)"
      ],
      "metadata": {
        "colab": {
          "base_uri": "https://localhost:8080/"
        },
        "id": "4yMYicupbDmk",
        "outputId": "c1b069e1-c8ad-4bf1-a4e3-f6d7c48180cb"
      },
      "execution_count": 96,
      "outputs": [
        {
          "output_type": "stream",
          "name": "stdout",
          "text": [
            "0         2\n",
            "1         4\n",
            "2         4\n",
            "3         2\n",
            "4         3\n",
            "5         2\n",
            "6         4\n",
            "7         3\n",
            "8         2\n",
            "9         4\n",
            "10        2\n",
            "11        4\n",
            "12        2\n",
            "13        3\n",
            "14    5more\n",
            "15        2\n",
            "16        2\n",
            "17    5more\n",
            "18        3\n",
            "19        2\n",
            "20        4\n",
            "21        2\n",
            "22    5more\n",
            "23        2\n",
            "24        4\n",
            "25        3\n",
            "26        3\n",
            "27        3\n",
            "28    5more\n",
            "29    5more\n",
            "30        3\n",
            "31    5more\n",
            "32    5more\n",
            "33        4\n",
            "34        3\n",
            "Name: Number of Doors, dtype: object\n"
          ]
        }
      ]
    },
    {
      "cell_type": "code",
      "source": [
        "#List of Number of Passengers values\n",
        "\n",
        "number_of_passengers_list = df[\"Number of Passengers\"]\n",
        "print(number_of_passengers_list)"
      ],
      "metadata": {
        "colab": {
          "base_uri": "https://localhost:8080/"
        },
        "id": "dtl3uQjlUutg",
        "outputId": "61b8f97c-c532-4161-81ae-8352197734b1"
      },
      "execution_count": 97,
      "outputs": [
        {
          "output_type": "stream",
          "name": "stdout",
          "text": [
            "0        4\n",
            "1     more\n",
            "2     more\n",
            "3     more\n",
            "4        2\n",
            "5        2\n",
            "6     more\n",
            "7        2\n",
            "8        2\n",
            "9        4\n",
            "10       2\n",
            "11    more\n",
            "12       4\n",
            "13    more\n",
            "14       2\n",
            "15    more\n",
            "16       2\n",
            "17       4\n",
            "18    more\n",
            "19       2\n",
            "20       2\n",
            "21       2\n",
            "22       4\n",
            "23       2\n",
            "24       4\n",
            "25    more\n",
            "26       4\n",
            "27       4\n",
            "28       2\n",
            "29       2\n",
            "30       4\n",
            "31       4\n",
            "32       2\n",
            "33       2\n",
            "34       2\n",
            "Name: Number of Passengers, dtype: object\n"
          ]
        }
      ]
    },
    {
      "cell_type": "code",
      "source": [
        "#List of Luggage Capacity values\n",
        "\n",
        "luggage_capacity_list = df[\"Luggage Capacity\"]\n",
        "print(luggage_capacity_list)"
      ],
      "metadata": {
        "colab": {
          "base_uri": "https://localhost:8080/"
        },
        "id": "j1XHJgqSbe0K",
        "outputId": "b9e3f0c5-1c2f-4c4e-ce9e-bf36739b6ab1"
      },
      "execution_count": 99,
      "outputs": [
        {
          "output_type": "stream",
          "name": "stdout",
          "text": [
            "0       med\n",
            "1     small\n",
            "2       big\n",
            "3       big\n",
            "4       med\n",
            "5     small\n",
            "6       med\n",
            "7       big\n",
            "8     small\n",
            "9       med\n",
            "10      med\n",
            "11    small\n",
            "12      big\n",
            "13      big\n",
            "14      big\n",
            "15      med\n",
            "16    small\n",
            "17      med\n",
            "18      med\n",
            "19      big\n",
            "20      big\n",
            "21    small\n",
            "22      med\n",
            "23      big\n",
            "24      big\n",
            "25      big\n",
            "26    small\n",
            "27      med\n",
            "28      big\n",
            "29      med\n",
            "30      med\n",
            "31      med\n",
            "32      med\n",
            "33      big\n",
            "34      big\n",
            "Name: Luggage Capacity, dtype: object\n"
          ]
        }
      ]
    },
    {
      "cell_type": "code",
      "source": [
        "#List of Safety Rating values\n",
        "\n",
        "safety_rating_list = df[\"Safety Rating\"]\n",
        "print(safety_rating_list)"
      ],
      "metadata": {
        "colab": {
          "base_uri": "https://localhost:8080/"
        },
        "id": "3nhN_7TGcMGj",
        "outputId": "af5aee00-d65a-42bc-8e9d-c537aff329e7"
      },
      "execution_count": 100,
      "outputs": [
        {
          "output_type": "stream",
          "name": "stdout",
          "text": [
            "0      low\n",
            "1     high\n",
            "2      low\n",
            "3     high\n",
            "4      med\n",
            "5      low\n",
            "6     high\n",
            "7      med\n",
            "8      low\n",
            "9      low\n",
            "10     med\n",
            "11    high\n",
            "12     med\n",
            "13     low\n",
            "14     med\n",
            "15    high\n",
            "16     low\n",
            "17    high\n",
            "18    high\n",
            "19     med\n",
            "20    high\n",
            "21    high\n",
            "22     med\n",
            "23     low\n",
            "24     low\n",
            "25     low\n",
            "26     low\n",
            "27     med\n",
            "28     low\n",
            "29     med\n",
            "30    high\n",
            "31     med\n",
            "32     low\n",
            "33    high\n",
            "34    high\n",
            "Name: Safety Rating, dtype: object\n"
          ]
        }
      ]
    },
    {
      "cell_type": "code",
      "source": [
        "#List of Classification of Vehicle values\n",
        "\n",
        "classification_of_vehicle_list = df[\"Classification of Vehicle\"]\n",
        "print(classification_of_vehicle_list)"
      ],
      "metadata": {
        "id": "JjfYRyn8cJgC",
        "colab": {
          "base_uri": "https://localhost:8080/"
        },
        "outputId": "336c602d-59a9-49cc-f79b-bafb8ce60511"
      },
      "execution_count": 101,
      "outputs": [
        {
          "output_type": "stream",
          "name": "stdout",
          "text": [
            "0     unacc\n",
            "1       acc\n",
            "2     unacc\n",
            "3       acc\n",
            "4     unacc\n",
            "5     unacc\n",
            "6     vgood\n",
            "7     unacc\n",
            "8     unacc\n",
            "9     unacc\n",
            "10    unacc\n",
            "11      acc\n",
            "12      acc\n",
            "13    unacc\n",
            "14    unacc\n",
            "15    unacc\n",
            "16    unacc\n",
            "17      acc\n",
            "18    vgood\n",
            "19    unacc\n",
            "20    unacc\n",
            "21    unacc\n",
            "22    unacc\n",
            "23    unacc\n",
            "24    unacc\n",
            "25    unacc\n",
            "26    unacc\n",
            "27    unacc\n",
            "28    unacc\n",
            "29    unacc\n",
            "30      acc\n",
            "31    unacc\n",
            "32    unacc\n",
            "33    unacc\n",
            "34    unacc\n",
            "Name: Classification of Vehicle, dtype: object\n"
          ]
        }
      ]
    },
    {
      "cell_type": "code",
      "source": [
        "#3) Find the list index values of each automobile having a “price” rating of \"med\". Create a new list object with your result. \n",
        "# HINT: you can accomplish this task by searching the list of price values you created earlier. Be sure to print your results.\n",
        "\n",
        "q3_list = []\n",
        "for i in range(len(price_list)):\n",
        "  if price_list[i] == \"med\":\n",
        "    q3_list.append(i)\n",
        "\n",
        "print(q3_list) "
      ],
      "metadata": {
        "colab": {
          "base_uri": "https://localhost:8080/"
        },
        "id": "NdG2B1pQctQR",
        "outputId": "5e52a70f-e8f2-4c4e-e4ef-c4e3f2cbf8e2"
      },
      "execution_count": 104,
      "outputs": [
        {
          "output_type": "stream",
          "name": "stdout",
          "text": [
            "[6, 16, 20, 23, 26, 29]\n"
          ]
        }
      ]
    },
    {
      "cell_type": "code",
      "source": [
        "#4) Find the \"number of passengers\" value for each auto having a \"price\" value of \"med\". Create a new list to store your findings and be sure to print your results.\n",
        "\n",
        "q4_list = []\n",
        "for i in range(len(q3_list)):\n",
        "  q4_list.append(number_of_passengers_list[q3_list[i]])\n",
        "\n",
        "print(q4_list) "
      ],
      "metadata": {
        "colab": {
          "base_uri": "https://localhost:8080/"
        },
        "id": "lL6weyfbfC9Y",
        "outputId": "d852f8d8-ad45-4d3c-843a-edb915e3d78c"
      },
      "execution_count": 105,
      "outputs": [
        {
          "output_type": "stream",
          "name": "stdout",
          "text": [
            "['more', '2', '2', '2', '4', '2']\n"
          ]
        }
      ]
    },
    {
      "cell_type": "code",
      "source": [
        "#5) Find the index value for each automobile having a “price” value of \"high\" and a “maintenance” value that is not \"low\". Create a new list to store your findings and be sure to print your results.\n",
        "\n",
        "q5_list = []\n",
        "for i in range(35):\n",
        "  if price_list[i] == \"high\" and maintenance_cost_list[i] != \"low\":\n",
        "    q5_list.append(i)\n",
        "\n",
        "print(q5_list)"
      ],
      "metadata": {
        "colab": {
          "base_uri": "https://localhost:8080/"
        },
        "id": "7sp36tO3gcRj",
        "outputId": "e92a3984-224b-4a2f-fe8a-226e6786a4bd"
      },
      "execution_count": 108,
      "outputs": [
        {
          "output_type": "stream",
          "name": "stdout",
          "text": [
            "[0, 1, 2, 27, 31]\n"
          ]
        }
      ]
    },
    {
      "cell_type": "code",
      "source": [
        "#6) Find the list index values of each automobile having a price rating of \"med\" using a list comprehension instead of a basic for or while loop. \n",
        "# The list comprehension should create a new list containing your result. Be sure to print your results to the screen.\n",
        "\n",
        "q6_list = [i for i in range(len(price_list)) if price_list[i] == \"med\"]\n",
        "print(q6_list)"
      ],
      "metadata": {
        "colab": {
          "base_uri": "https://localhost:8080/"
        },
        "id": "UEv8jpcHiQv6",
        "outputId": "7d77b505-0a24-416b-a01a-55cb33577e66"
      },
      "execution_count": 109,
      "outputs": [
        {
          "output_type": "stream",
          "name": "stdout",
          "text": [
            "[6, 16, 20, 23, 26, 29]\n"
          ]
        }
      ]
    },
    {
      "cell_type": "code",
      "source": [
        "#7) Find the \"number of passengers\" value for each auto having a \"price\" value of \"med\" using a list comprehension instead of a basic for or while loop. \n",
        "# The list comprehension should create a new list containing your findings. Be sure to print your results to the screen.\n",
        "\n",
        "q7_list = [number_of_passengers_list[i] for i in range(len(price_list)) if price_list[i] == \"med\"]\n",
        "print(q7_list)"
      ],
      "metadata": {
        "colab": {
          "base_uri": "https://localhost:8080/"
        },
        "id": "V7ohuBWjlMqG",
        "outputId": "0814cd88-8454-4d84-fd2a-2e5fe6be504a"
      },
      "execution_count": 112,
      "outputs": [
        {
          "output_type": "stream",
          "name": "stdout",
          "text": [
            "['more', '2', '2', '2', '4', '2']\n"
          ]
        }
      ]
    },
    {
      "cell_type": "code",
      "source": [
        "#8) Find the index value for each automobile having a price value of \"high\" and a maintenance value that is not \"low\" using a list comprehension. \n",
        "# The list comprehension should create a new list containing your findings. Be sure to print your results to the screen.\n",
        "\n",
        "q8_list = [i for i in range(35) if price_list[i] == \"high\" and maintenance_cost_list[i] != \"low\"]\n",
        "print(q8_list)"
      ],
      "metadata": {
        "colab": {
          "base_uri": "https://localhost:8080/"
        },
        "id": "Kx6RrVlCpLvJ",
        "outputId": "408024d4-fd26-4e1a-ae9b-b7c5a587dcf5"
      },
      "execution_count": 115,
      "outputs": [
        {
          "output_type": "stream",
          "name": "stdout",
          "text": [
            "[0, 1, 2, 27, 31]\n"
          ]
        }
      ]
    },
    {
      "cell_type": "code",
      "source": [
        "#9) Nested List Comprehension (no file needed):\n",
        "# Consider the following list of lists: nlist = [ [1, 2, 3], [‘A’, ‘B’, ‘C’], [4, 5], [‘D’, ‘E’] ]. \n",
        "# Extract each individual element of the component lists contained within nlist and add them to a new list.  Do NOT use a nested for loop, use a list comprehension.\n",
        "\n",
        "nlist = [ [1, 2, 3], [6, 7, 8], [4, 5], [9, 10] ]\n",
        "q9_list = [x for y in nlist for x in y]\n",
        "print(q9_list)"
      ],
      "metadata": {
        "colab": {
          "base_uri": "https://localhost:8080/"
        },
        "id": "b_YUJ9nup9SF",
        "outputId": "827a1db0-b38d-4b12-eccc-956a5e9be35c"
      },
      "execution_count": 122,
      "outputs": [
        {
          "output_type": "stream",
          "name": "stdout",
          "text": [
            "[1, 2, 3, 6, 7, 8, 4, 5, 9, 10]\n"
          ]
        }
      ]
    }
  ]
}